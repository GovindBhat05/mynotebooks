{
 "cells": [
  {
   "cell_type": "code",
   "execution_count": 108,
   "id": "0277e5f0-c1e3-43c0-9424-069539c51cfb",
   "metadata": {},
   "outputs": [],
   "source": [
    "import sympy as sym\n",
    "from IPython.display import display, Math, Latex\n",
    "import pickle"
   ]
  },
  {
   "cell_type": "code",
   "execution_count": 109,
   "id": "d2b90732-a98e-4bb9-b251-af85a0bc51bd",
   "metadata": {},
   "outputs": [],
   "source": [
    "r,theta,z = sym.symbols('r,theta,phi')"
   ]
  },
  {
   "cell_type": "code",
   "execution_count": 110,
   "id": "4f3673a4-4bf3-4eea-863d-3c2caebf51ff",
   "metadata": {},
   "outputs": [],
   "source": [
    "#sigma_rr,sigma_tt,sigma_zz,E,nu,epsilon_rr,epsilon_tt,epsilon_zz = sym.Funtion('sigma_rr,sigma_tt,sigma_zz,E,nu,epsilon_rr,epsilon_tt,epsilon_zz')(r)\n",
    "sigma_rr = sym.Function('sigma_rr')(r)\n",
    "sigma_tt = sym.Function('sigma_tt')(r)\n",
    "sigma_pp = sym.Function('sigma_pp')(r)\n",
    "epsilon_rr = sym.Function('epsilon_rr')(r)\n",
    "epsilon_tt = sym.Function('epsilon_tt')(r)\n",
    "epsilon_pp = sym.Function('epsilon_pp')(r)\n",
    "E,nu = sym.symbols('E,nu')\n",
    "\n",
    "\n"
   ]
  },
  {
   "cell_type": "code",
   "execution_count": 111,
   "id": "1fc68b94-1d86-43d0-b4c2-3987df2ed25d",
   "metadata": {},
   "outputs": [
    {
     "data": {
      "text/latex": [
       "$\\displaystyle \\epsilon_{rr}{\\left(r \\right)} = \\frac{- 2 \\nu \\sigma_{tt}{\\left(r \\right)} + \\sigma_{rr}{\\left(r \\right)}}{E}$"
      ],
      "text/plain": [
       "Eq(epsilon_rr(r), (-2*nu*sigma_tt(r) + sigma_rr(r))/E)"
      ]
     },
     "metadata": {},
     "output_type": "display_data"
    },
    {
     "data": {
      "text/latex": [
       "$\\displaystyle \\epsilon_{tt}{\\left(r \\right)} = \\frac{- \\nu \\left(\\sigma_{rr}{\\left(r \\right)} + \\sigma_{tt}{\\left(r \\right)}\\right) + \\sigma_{tt}{\\left(r \\right)}}{E}$"
      ],
      "text/plain": [
       "Eq(epsilon_tt(r), (-nu*(sigma_rr(r) + sigma_tt(r)) + sigma_tt(r))/E)"
      ]
     },
     "metadata": {},
     "output_type": "display_data"
    }
   ],
   "source": [
    "eq1 = sym.Eq(epsilon_rr, 1/E*(sigma_rr - 2*nu*(sigma_tt)))\n",
    "eq2 = sym.Eq(epsilon_tt, 1/E*(sigma_tt - nu*(sigma_rr + sigma_tt)))\n",
    "display(eq1,eq2)"
   ]
  },
  {
   "cell_type": "code",
   "execution_count": 112,
   "id": "49e288c2-6199-4a14-8832-3b24e886f382",
   "metadata": {},
   "outputs": [
    {
     "data": {
      "text/latex": [
       "$\\displaystyle \\left\\{ \\sigma_{rr}{\\left(r \\right)} : \\frac{E \\left(\\nu \\epsilon_{rr}{\\left(r \\right)} - 2 \\nu \\epsilon_{tt}{\\left(r \\right)} - \\epsilon_{rr}{\\left(r \\right)}\\right)}{\\left(\\nu + 1\\right) \\left(2 \\nu - 1\\right)}, \\  \\sigma_{tt}{\\left(r \\right)} : - \\frac{E \\left(\\nu \\epsilon_{rr}{\\left(r \\right)} + \\epsilon_{tt}{\\left(r \\right)}\\right)}{\\left(\\nu + 1\\right) \\left(2 \\nu - 1\\right)}\\right\\}$"
      ],
      "text/plain": [
       "{sigma_rr(r): E*(nu*epsilon_rr(r) - 2*nu*epsilon_tt(r) - epsilon_rr(r))/((nu + 1)*(2*nu - 1)), sigma_tt(r): -E*(nu*epsilon_rr(r) + epsilon_tt(r))/((nu + 1)*(2*nu - 1))}"
      ]
     },
     "metadata": {},
     "output_type": "display_data"
    }
   ],
   "source": [
    "soln = sym.solve([eq1,eq2],[sigma_rr,sigma_tt])\n",
    "soln = sym.factor(soln)\n",
    "display(soln)"
   ]
  },
  {
   "cell_type": "code",
   "execution_count": 113,
   "id": "9568ec7e-bf83-448a-945b-15bdf01a1ed4",
   "metadata": {},
   "outputs": [
    {
     "data": {
      "text/latex": [
       "$\\displaystyle \\frac{d}{d r} u{\\left(r \\right)}$"
      ],
      "text/plain": [
       "Derivative(u(r), r)"
      ]
     },
     "execution_count": 113,
     "metadata": {},
     "output_type": "execute_result"
    }
   ],
   "source": [
    "u = sym.Function('u')(r)\n",
    "sym.diff(u,r)"
   ]
  },
  {
   "cell_type": "code",
   "execution_count": 114,
   "id": "68305bcc-3909-4a61-9ecf-b0c24fde9062",
   "metadata": {},
   "outputs": [
    {
     "data": {
      "text/latex": [
       "$\\displaystyle \\frac{E \\left(\\nu \\frac{d}{d r} u{\\left(r \\right)} - \\frac{2 \\nu u{\\left(r \\right)}}{r} - \\frac{d}{d r} u{\\left(r \\right)}\\right)}{\\left(\\nu + 1\\right) \\left(2 \\nu - 1\\right)}$"
      ],
      "text/plain": [
       "E*(nu*Derivative(u(r), r) - 2*nu*u(r)/r - Derivative(u(r), r))/((nu + 1)*(2*nu - 1))"
      ]
     },
     "metadata": {},
     "output_type": "display_data"
    },
    {
     "data": {
      "text/latex": [
       "$\\displaystyle - \\frac{E \\left(\\nu \\frac{d}{d r} u{\\left(r \\right)} + \\frac{u{\\left(r \\right)}}{r}\\right)}{\\left(\\nu + 1\\right) \\left(2 \\nu - 1\\right)}$"
      ],
      "text/plain": [
       "-E*(nu*Derivative(u(r), r) + u(r)/r)/((nu + 1)*(2*nu - 1))"
      ]
     },
     "metadata": {},
     "output_type": "display_data"
    }
   ],
   "source": [
    "\n",
    "soln2 = soln.subs({epsilon_rr: sym.diff(u,r), epsilon_tt: u/r})\n",
    "sigma_rr = soln2[sigma_rr]\n",
    "sigma_tt = soln2[sigma_tt]\n",
    "display(sigma_rr)\n",
    "display(sigma_tt)\n"
   ]
  },
  {
   "cell_type": "code",
   "execution_count": 115,
   "id": "176be371-7e3c-4292-834d-4145a988be45",
   "metadata": {
    "scrolled": true
   },
   "outputs": [
    {
     "data": {
      "text/latex": [
       "$\\displaystyle \\frac{E \\left(- 2 \\nu u{\\left(r \\right)} + r^{2} \\left(\\nu - 1\\right) \\frac{d^{2}}{d r^{2}} u{\\left(r \\right)} - 2 r \\left(1 - \\nu\\right) \\frac{d}{d r} u{\\left(r \\right)} + 2 u{\\left(r \\right)}\\right)}{r^{2} \\left(\\nu + 1\\right) \\left(2 \\nu - 1\\right)} = 0$"
      ],
      "text/plain": [
       "Eq(E*(-2*nu*u(r) + r**2*(nu - 1)*Derivative(u(r), (r, 2)) - 2*r*(1 - nu)*Derivative(u(r), r) + 2*u(r))/(r**2*(nu + 1)*(2*nu - 1)), 0)"
      ]
     },
     "metadata": {},
     "output_type": "display_data"
    }
   ],
   "source": [
    "cond = (sym.diff(sigma_rr,r) + 2*(sigma_rr - sigma_tt)/r).simplify()\n",
    "eq6 = sym.Eq(cond,0)\n",
    "display(eq6)\n"
   ]
  },
  {
   "cell_type": "code",
   "execution_count": 116,
   "id": "0cf7f803-f6dc-4e3d-bff2-962c6a31b008",
   "metadata": {},
   "outputs": [
    {
     "data": {
      "text/latex": [
       "$\\displaystyle u{\\left(r \\right)} = \\frac{C_{1}}{r^{2}} + C_{2} r$"
      ],
      "text/plain": [
       "Eq(u(r), C1/r**2 + C2*r)"
      ]
     },
     "metadata": {},
     "output_type": "display_data"
    }
   ],
   "source": [
    "soln3 = sym.dsolve(eq6,u)\n",
    "display(soln3)"
   ]
  },
  {
   "cell_type": "code",
   "execution_count": 117,
   "id": "d2514b5b-8063-475f-bfcd-c537bfd6d2e6",
   "metadata": {},
   "outputs": [
    {
     "data": {
      "text/latex": [
       "$\\displaystyle \\frac{C_{1}}{r^{2}} + C_{2} r$"
      ],
      "text/plain": [
       "C1/r**2 + C2*r"
      ]
     },
     "metadata": {},
     "output_type": "display_data"
    },
    {
     "data": {
      "text/latex": [
       "$\\displaystyle \\frac{E \\left(- 4 C_{1} \\nu + 2 C_{1} - C_{2} \\nu r^{3} - C_{2} r^{3}\\right)}{r^{3} \\cdot \\left(2 \\nu^{2} + \\nu - 1\\right)}$"
      ],
      "text/plain": [
       "E*(-4*C1*nu + 2*C1 - C2*nu*r**3 - C2*r**3)/(r**3*(2*nu**2 + nu - 1))"
      ]
     },
     "metadata": {},
     "output_type": "display_data"
    },
    {
     "data": {
      "text/latex": [
       "$\\displaystyle - \\frac{E \\left(- 2 C_{1} \\nu + C_{1} + C_{2} \\nu r^{3} + C_{2} r^{3}\\right)}{r^{3} \\left(\\nu + 1\\right) \\left(2 \\nu - 1\\right)}$"
      ],
      "text/plain": [
       "-E*(-2*C1*nu + C1 + C2*nu*r**3 + C2*r**3)/(r**3*(nu + 1)*(2*nu - 1))"
      ]
     },
     "metadata": {},
     "output_type": "display_data"
    }
   ],
   "source": [
    "C1,C2 = sym.symbols('C1,C2')\n",
    "u_soln = C1/r**2 + C2*r\n",
    "sigma_rr = sym.factor(sigma_rr.replace(u,u_soln).doit()).simplify()\n",
    "sigma_tt = sym.factor(sigma_tt.replace(u,u_soln).doit().simplify())\n",
    "\n",
    "display(u_soln,sigma_rr,sigma_tt)\n",
    "\n",
    "\n",
    "\n"
   ]
  },
  {
   "cell_type": "code",
   "execution_count": 118,
   "id": "f0c26eb3-3efe-41a9-851e-51db4ffbc087",
   "metadata": {},
   "outputs": [],
   "source": [
    "r_o,r_i,p_o,p_i = sym.symbols('r_o,r_i,p_o,p_i')"
   ]
  },
  {
   "cell_type": "code",
   "execution_count": 150,
   "id": "11a6c5fc-5c6c-4087-af88-36efb9c54918",
   "metadata": {
    "scrolled": true
   },
   "outputs": [
    {
     "data": {
      "text/latex": [
       "$\\displaystyle \\frac{E \\left(- 4 C_{1} \\nu + 2 C_{1} - C_{2} \\nu r_{i}^{3} - C_{2} r_{i}^{3}\\right)}{r_{i}^{3} \\cdot \\left(2 \\nu^{2} + \\nu - 1\\right)} = - p_{i}$"
      ],
      "text/plain": [
       "Eq(E*(-4*C1*nu + 2*C1 - C2*nu*r_i**3 - C2*r_i**3)/(r_i**3*(2*nu**2 + nu - 1)), -p_i)"
      ]
     },
     "metadata": {},
     "output_type": "display_data"
    },
    {
     "data": {
      "text/latex": [
       "$\\displaystyle \\frac{E \\left(- 4 C_{1} \\nu + 2 C_{1} - C_{2} \\nu r_{o}^{3} - C_{2} r_{o}^{3}\\right)}{r_{o}^{3} \\cdot \\left(2 \\nu^{2} + \\nu - 1\\right)} = - p_{o}$"
      ],
      "text/plain": [
       "Eq(E*(-4*C1*nu + 2*C1 - C2*nu*r_o**3 - C2*r_o**3)/(r_o**3*(2*nu**2 + nu - 1)), -p_o)"
      ]
     },
     "metadata": {},
     "output_type": "display_data"
    }
   ],
   "source": [
    "bc1 = sym.Eq(sigma_rr.subs(r,r_i),-p_i)\n",
    "bc2= sym.Eq(sigma_rr.subs(r,r_o),-p_o)\n",
    "display(bc1,bc2)"
   ]
  },
  {
   "cell_type": "code",
   "execution_count": 152,
   "id": "02f4a739-c1ed-48c5-a9ea-060f56e9b35d",
   "metadata": {},
   "outputs": [
    {
     "data": {
      "text/latex": [
       "$\\displaystyle - \\frac{- p_{i} r_{i}^{3} r_{o}^{3} + p_{o} r_{i}^{3} r_{o}^{3} + r^{3} \\left(p_{i} r_{i}^{3} - p_{o} r_{o}^{3}\\right)}{r^{3} \\left(r_{i} - r_{o}\\right) \\left(r_{i}^{2} + r_{i} r_{o} + r_{o}^{2}\\right)}$"
      ],
      "text/plain": [
       "-(-p_i*r_i**3*r_o**3 + p_o*r_i**3*r_o**3 + r**3*(p_i*r_i**3 - p_o*r_o**3))/(r**3*(r_i - r_o)*(r_i**2 + r_i*r_o + r_o**2))"
      ]
     },
     "metadata": {},
     "output_type": "display_data"
    },
    {
     "data": {
      "text/latex": [
       "$\\displaystyle - \\frac{p_{i} r_{i}^{3} r_{o}^{3} - p_{o} r_{i}^{3} r_{o}^{3} + r^{3} \\cdot \\left(2 p_{i} r_{i}^{3} - 2 p_{o} r_{o}^{3}\\right)}{2 r^{3} \\left(r_{i} - r_{o}\\right) \\left(r_{i}^{2} + r_{i} r_{o} + r_{o}^{2}\\right)}$"
      ],
      "text/plain": [
       "-(p_i*r_i**3*r_o**3 - p_o*r_i**3*r_o**3 + r**3*(2*p_i*r_i**3 - 2*p_o*r_o**3))/(2*r**3*(r_i - r_o)*(r_i**2 + r_i*r_o + r_o**2))"
      ]
     },
     "metadata": {},
     "output_type": "display_data"
    }
   ],
   "source": [
    "soln4 = sym.factor(sym.solve([bc1,bc2],[C1,C2]))\n",
    "sigma_rr_soln = sym.factor(sigma_rr.subs([(C1,soln4[C1]),(C2,soln4[C2])]).simplify())\n",
    "sigma_tt_soln = sym.factor(sigma_tt.subs([(C1,soln4[C1]),(C2,soln4[C2])]).simplify())\n",
    "sigma_rr_soln = sym.collect(sigma_rr_soln, r)\n",
    "sigma_tt_soln = sym.collect(sigma_tt_soln, r)\n",
    "display(sigma_rr_soln,sigma_tt_soln)\n",
    "\n",
    "\n"
   ]
  },
  {
   "cell_type": "code",
   "execution_count": 154,
   "id": "f918fc6c-f188-4e26-ab4d-494f98e4740b",
   "metadata": {},
   "outputs": [
    {
     "data": {
      "text/latex": [
       "$\\displaystyle \\frac{3 \\left(- p_{i} r_{i}^{3} + p_{o} r_{o}^{3}\\right)}{r_{i}^{3} - r_{o}^{3}}$"
      ],
      "text/plain": [
       "3*(-p_i*r_i**3 + p_o*r_o**3)/(r_i**3 - r_o**3)"
      ]
     },
     "metadata": {},
     "output_type": "display_data"
    }
   ],
   "source": [
    "I1 = sym.factor((sigma_rr_soln + 2*sigma_tt_soln)).simplify()\n",
    "display(I1)"
   ]
  },
  {
   "cell_type": "code",
   "execution_count": null,
   "id": "8707ba8f-2a79-48e1-a7f2-e6fbe625883f",
   "metadata": {},
   "outputs": [],
   "source": [
    "\n",
    "    "
   ]
  },
  {
   "cell_type": "code",
   "execution_count": null,
   "id": "84f3e86c-12f1-490a-9064-438bae4674b4",
   "metadata": {},
   "outputs": [],
   "source": []
  }
 ],
 "metadata": {
  "kernelspec": {
   "display_name": "Python 3 (ipykernel)",
   "language": "python",
   "name": "python3"
  },
  "language_info": {
   "codemirror_mode": {
    "name": "ipython",
    "version": 3
   },
   "file_extension": ".py",
   "mimetype": "text/x-python",
   "name": "python",
   "nbconvert_exporter": "python",
   "pygments_lexer": "ipython3",
   "version": "3.12.4"
  }
 },
 "nbformat": 4,
 "nbformat_minor": 5
}
