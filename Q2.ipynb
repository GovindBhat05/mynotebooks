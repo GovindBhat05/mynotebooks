{
 "cells": [
  {
   "cell_type": "code",
   "execution_count": 80,
   "id": "1622a70f-181f-48f1-9847-d364781c1514",
   "metadata": {},
   "outputs": [],
   "source": [
    "import sympy as sym\n",
    "from IPython.display import display, Math, Latex\n"
   ]
  },
  {
   "cell_type": "code",
   "execution_count": 81,
   "id": "2dbf03e6-4ce0-4321-af00-6ffac1ef0014",
   "metadata": {},
   "outputs": [],
   "source": [
    "r,theta,z = sym.symbols('r,theta,z')"
   ]
  },
  {
   "cell_type": "code",
   "execution_count": 82,
   "id": "544f36df-65fb-4da4-b94b-280f6a0662d1",
   "metadata": {},
   "outputs": [],
   "source": [
    "sigma_rr = sym.Function('sigma_rr')(r)\n",
    "sigma_tt = sym.Function('sigma_tt')(r)\n",
    "sigma_zz = sym.Function('sigma_zz')(r)\n",
    "E,nu = sym.symbols('E,nu')\n",
    "r_o,r_i,p_o,p_i = sym.symbols('r_o,r_i,p_o,p_i')"
   ]
  },
  {
   "cell_type": "code",
   "execution_count": 83,
   "id": "1108962a-ba8b-40f5-bf92-fba7c220a3a3",
   "metadata": {},
   "outputs": [
    {
     "data": {
      "text/latex": [
       "$\\displaystyle - \\frac{p_{i} r^{2} r_{i}^{2} - p_{i} r_{i}^{2} r_{o}^{2} - p_{o} r^{2} r_{o}^{2} + p_{o} r_{i}^{2} r_{o}^{2}}{r^{2} \\left(r_{i} - r_{o}\\right) \\left(r_{i} + r_{o}\\right)}$"
      ],
      "text/plain": [
       "-(p_i*r**2*r_i**2 - p_i*r_i**2*r_o**2 - p_o*r**2*r_o**2 + p_o*r_i**2*r_o**2)/(r**2*(r_i - r_o)*(r_i + r_o))"
      ]
     },
     "metadata": {},
     "output_type": "display_data"
    },
    {
     "data": {
      "text/latex": [
       "$\\displaystyle - \\frac{p_{i} r^{2} r_{i}^{2} + p_{i} r_{i}^{2} r_{o}^{2} - p_{o} r^{2} r_{o}^{2} - p_{o} r_{i}^{2} r_{o}^{2}}{r^{2} \\left(r_{i} - r_{o}\\right) \\left(r_{i} + r_{o}\\right)}$"
      ],
      "text/plain": [
       "-(p_i*r**2*r_i**2 + p_i*r_i**2*r_o**2 - p_o*r**2*r_o**2 - p_o*r_i**2*r_o**2)/(r**2*(r_i - r_o)*(r_i + r_o))"
      ]
     },
     "metadata": {},
     "output_type": "display_data"
    },
    {
     "data": {
      "text/latex": [
       "$\\displaystyle - \\frac{2 \\nu \\left(p_{i} r_{i}^{2} - p_{o} r_{o}^{2}\\right)}{\\left(r_{i} - r_{o}\\right) \\left(r_{i} + r_{o}\\right)}$"
      ],
      "text/plain": [
       "-2*nu*(p_i*r_i**2 - p_o*r_o**2)/((r_i - r_o)*(r_i + r_o))"
      ]
     },
     "metadata": {},
     "output_type": "display_data"
    }
   ],
   "source": [
    "sigma_rr = sym.factor(-p_i*r_i**2/(r_i**2 - r_o**2) + p_o*r_o**2/(r_i**2 - r_o**2) + (p_i*r_i**2*r_o**2/(r_i**2 - r_o**2) - p_o*r_i**2*r_o**2/(r_i**2 - r_o**2))/r**2)\n",
    "sigma_tt = sym.factor(-p_i*r_i**2/(r_i**2 - r_o**2) + p_o*r_o**2/(r_i**2 - r_o**2) + (-p_i*r_i**2*r_o**2/(r_i**2 - r_o**2) + p_o*r_i**2*r_o**2/(r_i**2 - r_o**2))/r**2)\n",
    "sigma_zz = sym.factor(-2*nu*p_i*r_i**2/(r_i**2 - r_o**2) + 2*nu*p_o*r_o**2/(r_i**2 - r_o**2))\n",
    "display(sigma_rr,sigma_tt,sigma_zz)"
   ]
  },
  {
   "cell_type": "code",
   "execution_count": 84,
   "id": "d79001f0-1965-4cc2-83e6-1b9f9399469b",
   "metadata": {},
   "outputs": [
    {
     "data": {
      "text/latex": [
       "$\\displaystyle \\frac{p_{i} r_{i}^{2} \\left(- r^{2} + r_{o}^{2}\\right)}{r^{2} \\left(r_{i} - r_{o}\\right) \\left(r_{i} + r_{o}\\right)}$"
      ],
      "text/plain": [
       "p_i*r_i**2*(-r**2 + r_o**2)/(r**2*(r_i - r_o)*(r_i + r_o))"
      ]
     },
     "metadata": {},
     "output_type": "display_data"
    },
    {
     "data": {
      "text/latex": [
       "$\\displaystyle \\frac{p_{i} r_{i}^{2} \\left(- r^{2} - r_{o}^{2}\\right)}{r^{2} \\left(r_{i} - r_{o}\\right) \\left(r_{i} + r_{o}\\right)}$"
      ],
      "text/plain": [
       "p_i*r_i**2*(-r**2 - r_o**2)/(r**2*(r_i - r_o)*(r_i + r_o))"
      ]
     },
     "metadata": {},
     "output_type": "display_data"
    },
    {
     "data": {
      "text/latex": [
       "$\\displaystyle - \\frac{2 \\nu p_{i} r_{i}^{2}}{\\left(r_{i} - r_{o}\\right) \\left(r_{i} + r_{o}\\right)}$"
      ],
      "text/plain": [
       "-2*nu*p_i*r_i**2/((r_i - r_o)*(r_i + r_o))"
      ]
     },
     "metadata": {},
     "output_type": "display_data"
    }
   ],
   "source": [
    "sigma_rr = sigma_rr.subs(p_o,0).simplify()\n",
    "sigma_tt = sigma_tt.subs(p_o,0).simplify()\n",
    "sigma_zz = sigma_zz.subs(p_o,0).simplify()\n",
    "display(sigma_rr,sigma_tt,sigma_zz)\n"
   ]
  },
  {
   "cell_type": "code",
   "execution_count": 85,
   "id": "35418d46-7b42-4407-b93e-520ec2ca9800",
   "metadata": {},
   "outputs": [
    {
     "data": {
      "text/latex": [
       "$\\displaystyle \\left[\\begin{matrix}\\frac{p_{i} r_{i}^{2} \\left(- r^{2} + r_{o}^{2}\\right)}{r^{2} \\left(r_{i} - r_{o}\\right) \\left(r_{i} + r_{o}\\right)} & 0 & 0\\\\0 & \\frac{p_{i} r_{i}^{2} \\left(- r^{2} - r_{o}^{2}\\right)}{r^{2} \\left(r_{i} - r_{o}\\right) \\left(r_{i} + r_{o}\\right)} & 0\\\\0 & 0 & - \\frac{2 \\nu p_{i} r_{i}^{2}}{\\left(r_{i} - r_{o}\\right) \\left(r_{i} + r_{o}\\right)}\\end{matrix}\\right]$"
      ],
      "text/plain": [
       "Matrix([\n",
       "[p_i*r_i**2*(-r**2 + r_o**2)/(r**2*(r_i - r_o)*(r_i + r_o)),                                                          0,                                          0],\n",
       "[                                                         0, p_i*r_i**2*(-r**2 - r_o**2)/(r**2*(r_i - r_o)*(r_i + r_o)),                                          0],\n",
       "[                                                         0,                                                          0, -2*nu*p_i*r_i**2/((r_i - r_o)*(r_i + r_o))]])"
      ]
     },
     "metadata": {},
     "output_type": "display_data"
    }
   ],
   "source": [
    "sigma_cyl = sym.eye(3)\n",
    "sigma_cyl[0,0] = sigma_rr\n",
    "sigma_cyl[1,1] = sigma_tt\n",
    "sigma_cyl[2,2] = sigma_zz\n",
    "display(sigma_cyl)\n",
    "\n"
   ]
  },
  {
   "cell_type": "code",
   "execution_count": 86,
   "id": "e11bddf7-40e1-4eac-a53d-63e780b464c3",
   "metadata": {},
   "outputs": [
    {
     "data": {
      "text/latex": [
       "$\\displaystyle \\left|{\\frac{p_{i} r_{i}^{2} r_{o}^{2}}{r^{2} \\left(r_{i} - r_{o}\\right) \\left(r_{i} + r_{o}\\right)}}\\right|$"
      ],
      "text/plain": [
       "Abs(p_i*r_i**2*r_o**2/(r**2*(r_i - r_o)*(r_i + r_o)))"
      ]
     },
     "metadata": {},
     "output_type": "display_data"
    },
    {
     "data": {
      "text/latex": [
       "$\\displaystyle \\frac{\\left|{\\frac{p_{i} r_{i}^{2} \\cdot \\left(2 \\nu r^{2} - r^{2} + r_{o}^{2}\\right)}{r^{2} \\left(r_{i} - r_{o}\\right) \\left(r_{i} + r_{o}\\right)}}\\right|}{2}$"
      ],
      "text/plain": [
       "Abs(p_i*r_i**2*(2*nu*r**2 - r**2 + r_o**2)/(r**2*(r_i - r_o)*(r_i + r_o)))/2"
      ]
     },
     "metadata": {},
     "output_type": "display_data"
    },
    {
     "data": {
      "text/latex": [
       "$\\displaystyle \\frac{\\left|{\\frac{p_{i} r_{i}^{2} \\left(- 2 \\nu r^{2} + r^{2} + r_{o}^{2}\\right)}{r^{2} \\left(r_{i} - r_{o}\\right) \\left(r_{i} + r_{o}\\right)}}\\right|}{2}$"
      ],
      "text/plain": [
       "Abs(p_i*r_i**2*(-2*nu*r**2 + r**2 + r_o**2)/(r**2*(r_i - r_o)*(r_i + r_o)))/2"
      ]
     },
     "metadata": {},
     "output_type": "display_data"
    }
   ],
   "source": [
    "R1 = sym.Abs(sym.factor((sigma_rr - sigma_tt)/2)).simplify()\n",
    "R2 = sym.Abs(sym.factor((sigma_rr - sigma_zz)/2)).simplify()\n",
    "R3 = sym.Abs(sym.factor((sigma_zz - sigma_tt)/2)).simplify()\n",
    "display(R1,R2,R3)"
   ]
  },
  {
   "cell_type": "code",
   "execution_count": 101,
   "id": "46e86a68-090d-45b9-ac69-b3226e9a308a",
   "metadata": {},
   "outputs": [
    {
     "data": {
      "text/latex": [
       "$\\displaystyle \\left|{\\frac{p_{i} r_{i}^{2}}{\\left(r_{i} - r_{o}\\right) \\left(r_{i} + r_{o}\\right)}}\\right|$"
      ],
      "text/plain": [
       "Abs(p_i*r_i**2/((r_i - r_o)*(r_i + r_o)))"
      ]
     },
     "metadata": {},
     "output_type": "display_data"
    },
    {
     "data": {
      "text/latex": [
       "$\\displaystyle \\left|{\\frac{\\nu p_{i} r_{i}^{2}}{\\left(r_{i} - r_{o}\\right) \\left(r_{i} + r_{o}\\right)}}\\right|$"
      ],
      "text/plain": [
       "Abs(nu*p_i*r_i**2/((r_i - r_o)*(r_i + r_o)))"
      ]
     },
     "metadata": {},
     "output_type": "display_data"
    },
    {
     "data": {
      "text/latex": [
       "$\\displaystyle \\left|{\\frac{p_{i} r_{i}^{2} \\left(\\nu - 1\\right)}{\\left(r_{i} - r_{o}\\right) \\left(r_{i} + r_{o}\\right)}}\\right|$"
      ],
      "text/plain": [
       "Abs(p_i*r_i**2*(nu - 1)/((r_i - r_o)*(r_i + r_o)))"
      ]
     },
     "metadata": {},
     "output_type": "display_data"
    }
   ],
   "source": [
    "R1_max = R1.subs(r,r_o).simplify()\n",
    "R2_max = R2.subs(r,r_o).simplify()\n",
    "R3_max = R3.subs(r,r_o).simplify()\n",
    "display(R1_max,R2_max,R3_max)"
   ]
  },
  {
   "cell_type": "markdown",
   "id": "9513f8b9-d115-4888-9d76-3e7808592f22",
   "metadata": {},
   "source": [
    "R1_max is max among R1 R2 R3, hence max shear stress will be R1_max\n"
   ]
  },
  {
   "cell_type": "code",
   "execution_count": null,
   "id": "35ee9e04-ba35-4a9c-bf4e-ee925f0ab8e7",
   "metadata": {},
   "outputs": [],
   "source": []
  }
 ],
 "metadata": {
  "kernelspec": {
   "display_name": "Python 3 (ipykernel)",
   "language": "python",
   "name": "python3"
  },
  "language_info": {
   "codemirror_mode": {
    "name": "ipython",
    "version": 3
   },
   "file_extension": ".py",
   "mimetype": "text/x-python",
   "name": "python",
   "nbconvert_exporter": "python",
   "pygments_lexer": "ipython3",
   "version": "3.12.4"
  }
 },
 "nbformat": 4,
 "nbformat_minor": 5
}
