{
 "cells": [
  {
   "cell_type": "code",
   "execution_count": 38,
   "id": "fc12fb5b-cf17-402b-b5dd-f1c143cc0edf",
   "metadata": {},
   "outputs": [],
   "source": [
    "import sympy as sym\n",
    "from IPython.display import display, Math, Latex"
   ]
  },
  {
   "cell_type": "code",
   "execution_count": 39,
   "id": "cd146f48-a13c-4396-842b-2619d0fc7482",
   "metadata": {},
   "outputs": [],
   "source": [
    "r,theta,z = sym.symbols('r,theta,z')"
   ]
  },
  {
   "cell_type": "code",
   "execution_count": 40,
   "id": "bfa2d718-0d47-45ca-ad6c-082e996ae356",
   "metadata": {},
   "outputs": [],
   "source": [
    "sigma_rr = sym.Function('sigma_rr')(r)\n",
    "sigma_tt = sym.Function('sigma_tt')(r)\n",
    "sigma_zz = sym.Function('sigma_zz')(r)\n",
    "E,nu = sym.symbols('E,nu')\n",
    "r_o,r_i,p_o,p_i = sym.symbols('r_o,r_i,p_o,p_i')"
   ]
  },
  {
   "cell_type": "code",
   "execution_count": 41,
   "id": "0abf7d21-33ca-4d3e-8080-c687de50bb49",
   "metadata": {},
   "outputs": [
    {
     "data": {
      "text/latex": [
       "$\\displaystyle - \\frac{p_{i} r^{2} r_{i}^{2} - p_{i} r_{i}^{2} r_{o}^{2} - p_{o} r^{2} r_{o}^{2} + p_{o} r_{i}^{2} r_{o}^{2}}{r^{2} \\left(r_{i} - r_{o}\\right) \\left(r_{i} + r_{o}\\right)}$"
      ],
      "text/plain": [
       "-(p_i*r**2*r_i**2 - p_i*r_i**2*r_o**2 - p_o*r**2*r_o**2 + p_o*r_i**2*r_o**2)/(r**2*(r_i - r_o)*(r_i + r_o))"
      ]
     },
     "metadata": {},
     "output_type": "display_data"
    },
    {
     "data": {
      "text/latex": [
       "$\\displaystyle - \\frac{p_{i} r^{2} r_{i}^{2} + p_{i} r_{i}^{2} r_{o}^{2} - p_{o} r^{2} r_{o}^{2} - p_{o} r_{i}^{2} r_{o}^{2}}{r^{2} \\left(r_{i} - r_{o}\\right) \\left(r_{i} + r_{o}\\right)}$"
      ],
      "text/plain": [
       "-(p_i*r**2*r_i**2 + p_i*r_i**2*r_o**2 - p_o*r**2*r_o**2 - p_o*r_i**2*r_o**2)/(r**2*(r_i - r_o)*(r_i + r_o))"
      ]
     },
     "metadata": {},
     "output_type": "display_data"
    },
    {
     "data": {
      "text/latex": [
       "$\\displaystyle - \\frac{2 \\nu \\left(p_{i} r_{i}^{2} - p_{o} r_{o}^{2}\\right)}{\\left(r_{i} - r_{o}\\right) \\left(r_{i} + r_{o}\\right)}$"
      ],
      "text/plain": [
       "-2*nu*(p_i*r_i**2 - p_o*r_o**2)/((r_i - r_o)*(r_i + r_o))"
      ]
     },
     "metadata": {},
     "output_type": "display_data"
    }
   ],
   "source": [
    "sigma_rr = sym.factor(-p_i*r_i**2/(r_i**2 - r_o**2) + p_o*r_o**2/(r_i**2 - r_o**2) + (p_i*r_i**2*r_o**2/(r_i**2 - r_o**2) - p_o*r_i**2*r_o**2/(r_i**2 - r_o**2))/r**2)\n",
    "sigma_tt = sym.factor(-p_i*r_i**2/(r_i**2 - r_o**2) + p_o*r_o**2/(r_i**2 - r_o**2) + (-p_i*r_i**2*r_o**2/(r_i**2 - r_o**2) + p_o*r_i**2*r_o**2/(r_i**2 - r_o**2))/r**2)\n",
    "sigma_zz = sym.factor(-2*nu*p_i*r_i**2/(r_i**2 - r_o**2) + 2*nu*p_o*r_o**2/(r_i**2 - r_o**2))\n",
    "display(sigma_rr,sigma_tt,sigma_zz)"
   ]
  },
  {
   "cell_type": "code",
   "execution_count": 42,
   "id": "9b9abf4c-2969-42c4-8440-f88378cb35c2",
   "metadata": {},
   "outputs": [
    {
     "data": {
      "text/latex": [
       "$\\displaystyle \\frac{p_{i} r_{i}^{2} \\left(- r^{2} + r_{o}^{2}\\right)}{r^{2} \\left(r_{i} - r_{o}\\right) \\left(r_{i} + r_{o}\\right)}$"
      ],
      "text/plain": [
       "p_i*r_i**2*(-r**2 + r_o**2)/(r**2*(r_i - r_o)*(r_i + r_o))"
      ]
     },
     "metadata": {},
     "output_type": "display_data"
    },
    {
     "data": {
      "text/latex": [
       "$\\displaystyle \\frac{p_{i} r_{i}^{2} \\left(- r^{2} - r_{o}^{2}\\right)}{r^{2} \\left(r_{i} - r_{o}\\right) \\left(r_{i} + r_{o}\\right)}$"
      ],
      "text/plain": [
       "p_i*r_i**2*(-r**2 - r_o**2)/(r**2*(r_i - r_o)*(r_i + r_o))"
      ]
     },
     "metadata": {},
     "output_type": "display_data"
    },
    {
     "data": {
      "text/latex": [
       "$\\displaystyle - \\frac{2 \\nu p_{i} r_{i}^{2}}{\\left(r_{i} - r_{o}\\right) \\left(r_{i} + r_{o}\\right)}$"
      ],
      "text/plain": [
       "-2*nu*p_i*r_i**2/((r_i - r_o)*(r_i + r_o))"
      ]
     },
     "metadata": {},
     "output_type": "display_data"
    }
   ],
   "source": [
    "sigma_rr = sigma_rr.subs(p_o,0).simplify()\n",
    "sigma_tt = sigma_tt.subs(p_o,0).simplify()\n",
    "sigma_zz = sigma_zz.subs(p_o,0).simplify()\n",
    "display(sigma_rr,sigma_tt,sigma_zz)"
   ]
  },
  {
   "cell_type": "code",
   "execution_count": 43,
   "id": "1cfc14dc-2dc0-49cd-8c53-f51b3865b778",
   "metadata": {},
   "outputs": [
    {
     "data": {
      "text/latex": [
       "$\\displaystyle - p_{i}$"
      ],
      "text/plain": [
       "-p_i"
      ]
     },
     "metadata": {},
     "output_type": "display_data"
    },
    {
     "data": {
      "text/latex": [
       "$\\displaystyle \\frac{p_{i} r_{i}}{- r_{i} + r_{o}}$"
      ],
      "text/plain": [
       "p_i*r_i/(-r_i + r_o)"
      ]
     },
     "metadata": {},
     "output_type": "display_data"
    }
   ],
   "source": [
    "sigma_rr_thinwalled = -p_i\n",
    "sigma_tt_thinwalled = p_i*r_i/(r_o-r_i)\n",
    "display(sigma_rr_thinwalled,sigma_tt_thinwalled)\n"
   ]
  },
  {
   "cell_type": "code",
   "execution_count": 44,
   "id": "7efcc57b-bb59-4839-bcc2-b2a96e1d392d",
   "metadata": {},
   "outputs": [
    {
     "data": {
      "text/latex": [
       "$\\displaystyle - 1.0 p_{i}$"
      ],
      "text/plain": [
       "-1.0*p_i"
      ]
     },
     "metadata": {},
     "output_type": "display_data"
    },
    {
     "data": {
      "text/latex": [
       "$\\displaystyle 10.5238095238095 p_{i}$"
      ],
      "text/plain": [
       "10.5238095238095*p_i"
      ]
     },
     "metadata": {},
     "output_type": "display_data"
    },
    {
     "data": {
      "text/latex": [
       "$\\displaystyle - p_{i}$"
      ],
      "text/plain": [
       "-p_i"
      ]
     },
     "metadata": {},
     "output_type": "display_data"
    },
    {
     "data": {
      "text/latex": [
       "$\\displaystyle 9.99999999999999 p_{i}$"
      ],
      "text/plain": [
       "9.99999999999999*p_i"
      ]
     },
     "metadata": {},
     "output_type": "display_data"
    }
   ],
   "source": [
    "#Case1\n",
    "sigma_rr1 = sigma_rr.subs([[r_o,1.1*r_i],[r,r_i]]).simplify()\n",
    "sigma_tt1 = sigma_tt.subs([[r_o,1.1*r_i],[r,r_i]]).simplify()\n",
    "sigma_rr_thinwalled1 = sigma_rr_thinwalled.subs(r_o,1.1*r_i).simplify()\n",
    "sigma_tt_thinwalled1 = sigma_tt_thinwalled.subs(r_o,1.1*r_i).simplify()\n",
    "display(sigma_rr1,sigma_tt1,sigma_rr_thinwalled1,sigma_tt_thinwalled1)\n"
   ]
  },
  {
   "cell_type": "code",
   "execution_count": 45,
   "id": "a6368b8b-0ba4-4e52-9cd4-e231160882ba",
   "metadata": {},
   "outputs": [
    {
     "data": {
      "text/latex": [
       "$\\displaystyle \\frac{p_{i} \\left(r^{2} - 25 r_{i}^{2}\\right)}{24 r^{2}}$"
      ],
      "text/plain": [
       "p_i*(r**2 - 25*r_i**2)/(24*r**2)"
      ]
     },
     "metadata": {},
     "output_type": "display_data"
    },
    {
     "data": {
      "text/latex": [
       "$\\displaystyle \\frac{p_{i} \\left(r^{2} + 25 r_{i}^{2}\\right)}{24 r^{2}}$"
      ],
      "text/plain": [
       "p_i*(r**2 + 25*r_i**2)/(24*r**2)"
      ]
     },
     "metadata": {},
     "output_type": "display_data"
    },
    {
     "data": {
      "text/latex": [
       "$\\displaystyle - p_{i}$"
      ],
      "text/plain": [
       "-p_i"
      ]
     },
     "metadata": {},
     "output_type": "display_data"
    },
    {
     "data": {
      "text/latex": [
       "$\\displaystyle \\frac{p_{i}}{4}$"
      ],
      "text/plain": [
       "p_i/4"
      ]
     },
     "metadata": {},
     "output_type": "display_data"
    }
   ],
   "source": [
    "#case2\n",
    "sigma_rr2 = sigma_rr.subs(r_o,5*r_i).simplify()\n",
    "sigma_tt2 = sigma_tt.subs(r_o,5*r_i).simplify()\n",
    "sigma_rr_thinwalled2 = sigma_rr_thinwalled.subs(r_o,5*r_i).simplify()\n",
    "sigma_tt_thinwalled2 = sigma_tt_thinwalled.subs(r_o,5*r_i).simplify()\n",
    "display(sigma_rr2,sigma_tt2,sigma_rr_thinwalled2,sigma_tt_thinwalled2)"
   ]
  },
  {
   "cell_type": "code",
   "execution_count": 46,
   "id": "51ba1063-fbba-47f5-8d78-80a926a1840e",
   "metadata": {},
   "outputs": [
    {
     "data": {
      "image/png": "[encoded data removed]",
      "text/plain": [
       "<Figure size 640x480 with 1 Axes>"
      ]
     },
     "metadata": {},
     "output_type": "display_data"
    }
   ],
   "source": [
    "import matplotlib.pyplot as plt\n",
    "import numpy as np\n",
    "sigma_norm = sym.Function('sigma_norm')(r)\n",
    "sigma_norm = sym.Abs((sigma_rr2.subs(r_i,1))/p_i)\n",
    "sigma_rr_func = sym.lambdify(r, sigma_norm, 'numpy')\n",
    "r_vals = np.linspace(1, 5, 400)\n",
    "plt.plot(r_vals, sigma_rr_func(r_vals))\n",
    "plt.xlabel('r')\n",
    "plt.ylabel(r'$\\sigma_{rr}/p_{i}$')\n",
    "plt.title(r'variation of $\\sigma_{rr}/p_{i}$ with $r$')\n",
    "plt.show()\n"
   ]
  },
  {
   "cell_type": "code",
   "execution_count": null,
   "id": "ad1e9976-1997-4c77-8723-378f5f9b78ad",
   "metadata": {},
   "outputs": [],
   "source": []
  }
 ],
 "metadata": {
  "kernelspec": {
   "display_name": "Python 3 (ipykernel)",
   "language": "python",
   "name": "python3"
  },
  "language_info": {
   "codemirror_mode": {
    "name": "ipython",
    "version": 3
   },
   "file_extension": ".py",
   "mimetype": "text/x-python",
   "name": "python",
   "nbconvert_exporter": "python",
   "pygments_lexer": "ipython3",
   "version": "3.12.4"
  }
 },
 "nbformat": 4,
 "nbformat_minor": 5
}
