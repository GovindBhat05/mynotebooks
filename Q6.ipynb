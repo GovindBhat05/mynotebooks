{
 "cells": [
  {
   "cell_type": "code",
   "execution_count": 1,
   "id": "0277e5f0-c1e3-43c0-9424-069539c51cfb",
   "metadata": {},
   "outputs": [],
   "source": [
    "import sympy as sym\n",
    "from IPython.display import display, Math, Latex\n",
    "import pickle"
   ]
  },
  {
   "cell_type": "code",
   "execution_count": 2,
   "id": "d2b90732-a98e-4bb9-b251-af85a0bc51bd",
   "metadata": {},
   "outputs": [],
   "source": [
    "r,theta,z = sym.symbols('r,theta,z')"
   ]
  },
  {
   "cell_type": "code",
   "execution_count": 3,
   "id": "4f3673a4-4bf3-4eea-863d-3c2caebf51ff",
   "metadata": {},
   "outputs": [],
   "source": [
    "#sigma_rr,sigma_tt,sigma_zz,E,nu,epsilon_rr,epsilon_tt,epsilon_zz = sym.Funtion('sigma_rr,sigma_tt,sigma_zz,E,nu,epsilon_rr,epsilon_tt,epsilon_zz')(r)\n",
    "sigma_rr = sym.Function('sigma_rr')(r)\n",
    "sigma_tt = sym.Function('sigma_tt')(r)\n",
    "sigma_zz = sym.Function('sigma_zz')(r)\n",
    "epsilon_rr = sym.Function('epsilon_rr')(r)\n",
    "epsilon_tt = sym.Function('epsilon_tt')(r)\n",
    "epsilon_zz = sym.Function('epsilon_zz')(r)\n",
    "E,nu = sym.symbols('E,nu')\n",
    "\n",
    "\n"
   ]
  },
  {
   "cell_type": "code",
   "execution_count": 4,
   "id": "09f3c1a9-62c6-44ad-8511-83eeb83f6294",
   "metadata": {},
   "outputs": [
    {
     "data": {
      "text/latex": [
       "$\\displaystyle \\epsilon_{rr}{\\left(r \\right)} = \\frac{- \\nu \\sigma_{tt}{\\left(r \\right)} + \\sigma_{rr}{\\left(r \\right)}}{E}$"
      ],
      "text/plain": [
       "Eq(epsilon_rr(r), (-nu*sigma_tt(r) + sigma_rr(r))/E)"
      ]
     },
     "metadata": {},
     "output_type": "display_data"
    },
    {
     "data": {
      "text/latex": [
       "$\\displaystyle \\epsilon_{tt}{\\left(r \\right)} = \\frac{- \\nu \\sigma_{rr}{\\left(r \\right)} + \\sigma_{tt}{\\left(r \\right)}}{E}$"
      ],
      "text/plain": [
       "Eq(epsilon_tt(r), (-nu*sigma_rr(r) + sigma_tt(r))/E)"
      ]
     },
     "metadata": {},
     "output_type": "display_data"
    },
    {
     "data": {
      "text/latex": [
       "$\\displaystyle \\epsilon_{zz}{\\left(r \\right)} = - \\frac{\\nu \\left(\\sigma_{rr}{\\left(r \\right)} + \\sigma_{tt}{\\left(r \\right)}\\right)}{E}$"
      ],
      "text/plain": [
       "Eq(epsilon_zz(r), -nu*(sigma_rr(r) + sigma_tt(r))/E)"
      ]
     },
     "metadata": {},
     "output_type": "display_data"
    }
   ],
   "source": [
    "sigma_zz = 0 #plane stress condition\n",
    "eq1 = sym.Eq(epsilon_rr,1/E*(sigma_rr - nu*(sigma_tt)))\n",
    "eq2 = sym.Eq(epsilon_tt,1/E*(sigma_tt - nu*(sigma_rr)))\n",
    "eq3 = sym.Eq(epsilon_zz,1/E*(-nu*(sigma_rr + sigma_tt)))\n",
    "\n",
    "display(eq1,eq2,eq3)"
   ]
  },
  {
   "cell_type": "code",
   "execution_count": 5,
   "id": "a26abc09-c46e-4560-9902-ea755816e575",
   "metadata": {},
   "outputs": [
    {
     "data": {
      "text/latex": [
       "$\\displaystyle \\left\\{ \\sigma_{rr}{\\left(r \\right)} : - \\frac{E \\left(\\nu \\epsilon_{tt}{\\left(r \\right)} + \\epsilon_{rr}{\\left(r \\right)}\\right)}{\\left(\\nu - 1\\right) \\left(\\nu + 1\\right)}, \\  \\sigma_{tt}{\\left(r \\right)} : - \\frac{E \\left(\\nu \\epsilon_{rr}{\\left(r \\right)} + \\epsilon_{tt}{\\left(r \\right)}\\right)}{\\left(\\nu - 1\\right) \\left(\\nu + 1\\right)}\\right\\}$"
      ],
      "text/plain": [
       "{sigma_rr(r): -E*(nu*epsilon_tt(r) + epsilon_rr(r))/((nu - 1)*(nu + 1)), sigma_tt(r): -E*(nu*epsilon_rr(r) + epsilon_tt(r))/((nu - 1)*(nu + 1))}"
      ]
     },
     "metadata": {},
     "output_type": "display_data"
    }
   ],
   "source": [
    "soln = sym.solve([eq1,eq2],[sigma_rr,sigma_tt])\n",
    "soln = sym.factor(soln)\n",
    "display(soln)"
   ]
  },
  {
   "cell_type": "code",
   "execution_count": 6,
   "id": "9568ec7e-bf83-448a-945b-15bdf01a1ed4",
   "metadata": {},
   "outputs": [
    {
     "data": {
      "text/latex": [
       "$\\displaystyle \\frac{d}{d r} u{\\left(r \\right)}$"
      ],
      "text/plain": [
       "Derivative(u(r), r)"
      ]
     },
     "execution_count": 6,
     "metadata": {},
     "output_type": "execute_result"
    }
   ],
   "source": [
    "u = sym.Function('u')(r)\n",
    "sym.diff(u,r)"
   ]
  },
  {
   "cell_type": "code",
   "execution_count": 7,
   "id": "68305bcc-3909-4a61-9ecf-b0c24fde9062",
   "metadata": {},
   "outputs": [
    {
     "data": {
      "text/latex": [
       "$\\displaystyle - \\frac{E \\left(\\frac{\\nu u{\\left(r \\right)}}{r} + \\frac{d}{d r} u{\\left(r \\right)}\\right)}{\\left(\\nu - 1\\right) \\left(\\nu + 1\\right)}$"
      ],
      "text/plain": [
       "-E*(nu*u(r)/r + Derivative(u(r), r))/((nu - 1)*(nu + 1))"
      ]
     },
     "metadata": {},
     "output_type": "display_data"
    },
    {
     "data": {
      "text/latex": [
       "$\\displaystyle - \\frac{E \\left(\\nu \\frac{d}{d r} u{\\left(r \\right)} + \\frac{u{\\left(r \\right)}}{r}\\right)}{\\left(\\nu - 1\\right) \\left(\\nu + 1\\right)}$"
      ],
      "text/plain": [
       "-E*(nu*Derivative(u(r), r) + u(r)/r)/((nu - 1)*(nu + 1))"
      ]
     },
     "metadata": {},
     "output_type": "display_data"
    }
   ],
   "source": [
    "\n",
    "soln2 = soln.subs({epsilon_rr: sym.diff(u,r), epsilon_tt: u/r})\n",
    "sigma_rr = soln2[sigma_rr]\n",
    "sigma_tt = soln2[sigma_tt]\n",
    "display(sigma_rr)\n",
    "display(sigma_tt)\n"
   ]
  },
  {
   "cell_type": "code",
   "execution_count": 8,
   "id": "176be371-7e3c-4292-834d-4145a988be45",
   "metadata": {
    "scrolled": true
   },
   "outputs": [
    {
     "data": {
      "text/latex": [
       "$\\displaystyle \\frac{E \\left(- r^{2} \\frac{d^{2}}{d r^{2}} u{\\left(r \\right)} - r \\frac{d}{d r} u{\\left(r \\right)} + u{\\left(r \\right)}\\right)}{r^{2} \\left(\\nu^{2} - 1\\right)} = 0$"
      ],
      "text/plain": [
       "Eq(E*(-r**2*Derivative(u(r), (r, 2)) - r*Derivative(u(r), r) + u(r))/(r**2*(nu**2 - 1)), 0)"
      ]
     },
     "metadata": {},
     "output_type": "display_data"
    }
   ],
   "source": [
    "cond = (sym.diff(sigma_rr,r) + (sigma_rr - sigma_tt)/r).simplify()\n",
    "eq6 = sym.Eq(cond,0)\n",
    "display(eq6)\n"
   ]
  },
  {
   "cell_type": "code",
   "execution_count": 9,
   "id": "0cf7f803-f6dc-4e3d-bff2-962c6a31b008",
   "metadata": {},
   "outputs": [
    {
     "data": {
      "text/latex": [
       "$\\displaystyle u{\\left(r \\right)} = \\frac{C_{1}}{r} + C_{2} r$"
      ],
      "text/plain": [
       "Eq(u(r), C1/r + C2*r)"
      ]
     },
     "metadata": {},
     "output_type": "display_data"
    }
   ],
   "source": [
    "soln3 = sym.dsolve(eq6,u)\n",
    "display(soln3)"
   ]
  },
  {
   "cell_type": "code",
   "execution_count": 10,
   "id": "d2514b5b-8063-475f-bfcd-c537bfd6d2e6",
   "metadata": {},
   "outputs": [
    {
     "data": {
      "text/latex": [
       "$\\displaystyle - \\frac{E \\left(C_{1} \\nu - C_{1} + C_{2} \\nu r^{2} + C_{2} r^{2}\\right)}{r^{2} \\left(\\nu - 1\\right) \\left(\\nu + 1\\right)}$"
      ],
      "text/plain": [
       "-E*(C1*nu - C1 + C2*nu*r**2 + C2*r**2)/(r**2*(nu - 1)*(nu + 1))"
      ]
     },
     "metadata": {},
     "output_type": "display_data"
    },
    {
     "data": {
      "text/latex": [
       "$\\displaystyle - \\frac{E \\left(- C_{1} \\nu + C_{1} + C_{2} \\nu r^{2} + C_{2} r^{2}\\right)}{r^{2} \\left(\\nu - 1\\right) \\left(\\nu + 1\\right)}$"
      ],
      "text/plain": [
       "-E*(-C1*nu + C1 + C2*nu*r**2 + C2*r**2)/(r**2*(nu - 1)*(nu + 1))"
      ]
     },
     "metadata": {},
     "output_type": "display_data"
    }
   ],
   "source": [
    "C1,C2 = sym.symbols('C1,C2')\n",
    "u_soln = C1/r + C2*r\n",
    "sigma_rr = sym.factor(sigma_rr.replace(u,u_soln).doit().simplify())\n",
    "sigma_tt = sym.factor(sigma_tt.replace(u,u_soln).doit().simplify())\n",
    "display(sigma_rr,sigma_tt)\n",
    "\n",
    "\n",
    "\n"
   ]
  },
  {
   "cell_type": "code",
   "execution_count": 11,
   "id": "f0c26eb3-3efe-41a9-851e-51db4ffbc087",
   "metadata": {},
   "outputs": [],
   "source": [
    "r_o,r_i,p_o,p_i = sym.symbols('r_o,r_i,p_o,p_i')"
   ]
  },
  {
   "cell_type": "code",
   "execution_count": 12,
   "id": "11a6c5fc-5c6c-4087-af88-36efb9c54918",
   "metadata": {
    "scrolled": true
   },
   "outputs": [
    {
     "data": {
      "text/latex": [
       "$\\displaystyle - \\frac{E \\left(C_{1} \\nu - C_{1} + C_{2} \\nu r_{i}^{2} + C_{2} r_{i}^{2}\\right)}{r_{i}^{2} \\left(\\nu - 1\\right) \\left(\\nu + 1\\right)} = - p_{i}$"
      ],
      "text/plain": [
       "Eq(-E*(C1*nu - C1 + C2*nu*r_i**2 + C2*r_i**2)/(r_i**2*(nu - 1)*(nu + 1)), -p_i)"
      ]
     },
     "metadata": {},
     "output_type": "display_data"
    },
    {
     "data": {
      "text/latex": [
       "$\\displaystyle - \\frac{E \\left(C_{1} \\nu - C_{1} + C_{2} \\nu r_{o}^{2} + C_{2} r_{o}^{2}\\right)}{r_{o}^{2} \\left(\\nu - 1\\right) \\left(\\nu + 1\\right)} = - p_{o}$"
      ],
      "text/plain": [
       "Eq(-E*(C1*nu - C1 + C2*nu*r_o**2 + C2*r_o**2)/(r_o**2*(nu - 1)*(nu + 1)), -p_o)"
      ]
     },
     "metadata": {},
     "output_type": "display_data"
    }
   ],
   "source": [
    "bc1 = sym.Eq(sigma_rr.subs(r,r_i),-p_i)\n",
    "bc2= sym.Eq(sigma_rr.subs(r,r_o),-p_o)\n",
    "display(bc1,bc2)"
   ]
  },
  {
   "cell_type": "code",
   "execution_count": 13,
   "id": "02f4a739-c1ed-48c5-a9ea-060f56e9b35d",
   "metadata": {},
   "outputs": [
    {
     "data": {
      "text/latex": [
       "$\\displaystyle - \\frac{p_{i} r_{i}^{2}}{r_{i}^{2} - r_{o}^{2}} + \\frac{p_{o} r_{o}^{2}}{r_{i}^{2} - r_{o}^{2}} + \\frac{\\frac{p_{i} r_{i}^{2} r_{o}^{2}}{r_{i}^{2} - r_{o}^{2}} - \\frac{p_{o} r_{i}^{2} r_{o}^{2}}{r_{i}^{2} - r_{o}^{2}}}{r^{2}}$"
      ],
      "text/plain": [
       "-p_i*r_i**2/(r_i**2 - r_o**2) + p_o*r_o**2/(r_i**2 - r_o**2) + (p_i*r_i**2*r_o**2/(r_i**2 - r_o**2) - p_o*r_i**2*r_o**2/(r_i**2 - r_o**2))/r**2"
      ]
     },
     "metadata": {},
     "output_type": "display_data"
    },
    {
     "data": {
      "text/latex": [
       "$\\displaystyle - \\frac{p_{i} r_{i}^{2}}{r_{i}^{2} - r_{o}^{2}} + \\frac{p_{o} r_{o}^{2}}{r_{i}^{2} - r_{o}^{2}} + \\frac{- \\frac{p_{i} r_{i}^{2} r_{o}^{2}}{r_{i}^{2} - r_{o}^{2}} + \\frac{p_{o} r_{i}^{2} r_{o}^{2}}{r_{i}^{2} - r_{o}^{2}}}{r^{2}}$"
      ],
      "text/plain": [
       "-p_i*r_i**2/(r_i**2 - r_o**2) + p_o*r_o**2/(r_i**2 - r_o**2) + (-p_i*r_i**2*r_o**2/(r_i**2 - r_o**2) + p_o*r_i**2*r_o**2/(r_i**2 - r_o**2))/r**2"
      ]
     },
     "metadata": {},
     "output_type": "display_data"
    }
   ],
   "source": [
    "soln4 = sym.factor(sym.solve([bc1,bc2],[C1,C2]))\n",
    "sigma_rr_soln = sym.factor(sigma_rr.subs([(C1,soln4[C1]),(C2,soln4[C2])]).simplify()).expand()\n",
    "sigma_tt_soln = sym.factor(sigma_tt.subs([(C1,soln4[C1]),(C2,soln4[C2])]).simplify()).expand()\n",
    "sigma_rr_soln = sym.collect(sigma_rr_soln,r)\n",
    "sigma_tt_soln = sym.collect(sigma_tt_soln,r)\n",
    "display(sigma_rr_soln,sigma_tt_soln)\n",
    "\n",
    "\n"
   ]
  },
  {
   "cell_type": "code",
   "execution_count": 14,
   "id": "f918fc6c-f188-4e26-ab4d-494f98e4740b",
   "metadata": {},
   "outputs": [
    {
     "data": {
      "text/latex": [
       "$\\displaystyle - \\frac{2 \\left(p_{i} r_{i}^{2} - p_{o} r_{o}^{2}\\right)}{\\left(r_{i} - r_{o}\\right) \\left(r_{i} + r_{o}\\right)}$"
      ],
      "text/plain": [
       "-2*(p_i*r_i**2 - p_o*r_o**2)/((r_i - r_o)*(r_i + r_o))"
      ]
     },
     "metadata": {},
     "output_type": "display_data"
    }
   ],
   "source": [
    "I1 = sym.factor((sigma_rr_soln + sigma_tt_soln).simplify())\n",
    "display(I1)"
   ]
  },
  {
   "cell_type": "code",
   "execution_count": 15,
   "id": "8707ba8f-2a79-48e1-a7f2-e6fbe625883f",
   "metadata": {},
   "outputs": [
    {
     "data": {
      "text/plain": [
       "'-p_i*r_i**2/(r_i**2 - r_o**2) + p_o*r_o**2/(r_i**2 - r_o**2) + (p_i*r_i**2*r_o**2/(r_i**2 - r_o**2) - p_o*r_i**2*r_o**2/(r_i**2 - r_o**2))/r**2'"
      ]
     },
     "metadata": {},
     "output_type": "display_data"
    },
    {
     "data": {
      "text/plain": [
       "'-p_i*r_i**2/(r_i**2 - r_o**2) + p_o*r_o**2/(r_i**2 - r_o**2) + (-p_i*r_i**2*r_o**2/(r_i**2 - r_o**2) + p_o*r_i**2*r_o**2/(r_i**2 - r_o**2))/r**2'"
      ]
     },
     "metadata": {},
     "output_type": "display_data"
    }
   ],
   "source": [
    "display(repr(sigma_rr_soln),repr(sigma_tt_soln))\n",
    "    "
   ]
  },
  {
   "cell_type": "code",
   "execution_count": null,
   "id": "84f3e86c-12f1-490a-9064-438bae4674b4",
   "metadata": {},
   "outputs": [],
   "source": []
  }
 ],
 "metadata": {
  "kernelspec": {
   "display_name": "Python 3 (ipykernel)",
   "language": "python",
   "name": "python3"
  },
  "language_info": {
   "codemirror_mode": {
    "name": "ipython",
    "version": 3
   },
   "file_extension": ".py",
   "mimetype": "text/x-python",
   "name": "python",
   "nbconvert_exporter": "python",
   "pygments_lexer": "ipython3",
   "version": "3.12.4"
  }
 },
 "nbformat": 4,
 "nbformat_minor": 5
}
