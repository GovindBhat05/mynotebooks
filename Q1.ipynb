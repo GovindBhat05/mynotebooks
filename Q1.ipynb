{
 "cells": [
  {
   "cell_type": "code",
   "execution_count": 1,
   "id": "469bfb60-0165-4257-8f53-2447085860fa",
   "metadata": {},
   "outputs": [],
   "source": [
    "import sympy as sym\n",
    "from IPython.display import display, Math, Latex"
   ]
  },
  {
   "cell_type": "code",
   "execution_count": 2,
   "id": "3db25c4d-4c8a-42af-aca6-791720ebad4c",
   "metadata": {},
   "outputs": [],
   "source": [
    "r,theta,z = sym.symbols('r,theta,z')"
   ]
  },
  {
   "cell_type": "code",
   "execution_count": 3,
   "id": "a5838a69-8e75-4b5f-84fd-e444279be92b",
   "metadata": {},
   "outputs": [],
   "source": [
    "delr_delx = sym.cos(theta)\n",
    "delr_dely = sym.sin(theta)\n",
    "delr_delz = 0\n",
    "deltheta_delx = -sym.sin(theta)/r\n",
    "deltheta_dely = sym.cos(theta)/r\n",
    "deltheta_delz = 0\n",
    "delz_delx = 0\n",
    "delz_dely = 0 \n",
    "delz_delz = 1"
   ]
  },
  {
   "cell_type": "code",
   "execution_count": 4,
   "id": "d9f1b529-ee0e-41ca-a0b6-08ed6b8fe0fd",
   "metadata": {},
   "outputs": [],
   "source": [
    "def del_delx(f):\n",
    "    return delr_delx*sym.diff(f,r) + deltheta_delx*sym.diff(f,theta) + sym.diff(f,z)*delz_delx\n",
    "def del_dely(f):\n",
    "    return delr_dely*sym.diff(f,r) + deltheta_dely*sym.diff(f,theta) + sym.diff(f,z)*delz_dely\n",
    "def del_delz(f):\n",
    "    return delr_delz*sym.diff(f,r) + deltheta_delz*sym.diff(f,theta) + sym.diff(f,z)*delz_delz\n",
    "    "
   ]
  },
  {
   "cell_type": "code",
   "execution_count": 5,
   "id": "318a4a68-3fac-44e5-abce-32ef181e46a1",
   "metadata": {},
   "outputs": [],
   "source": [
    "Q = sym.Matrix([[sym.cos(theta),sym.sin(theta),0],[-sym.sin(theta),sym.cos(theta),0],[0,0,1]])"
   ]
  },
  {
   "cell_type": "code",
   "execution_count": 6,
   "id": "68cf0dae-252b-4244-99e7-f78aa3c70c25",
   "metadata": {},
   "outputs": [
    {
     "data": {
      "text/latex": [
       "$\\displaystyle \\left[\\begin{matrix}\\sigma_{rr}{\\left(r,\\theta,z \\right)} & \\sigma_{r\\theta}{\\left(r,\\theta,z \\right)} & \\sigma_{rz}{\\left(r,\\theta,z \\right)}\\\\\\sigma_{r\\theta}{\\left(r,\\theta,z \\right)} & \\sigma_{\\theta\\theta}{\\left(r,\\theta,z \\right)} & \\sigma_{z\\theta}{\\left(r,\\theta,z \\right)}\\\\\\sigma_{rz}{\\left(r,\\theta,z \\right)} & \\sigma_{z\\theta}{\\left(r,\\theta,z \\right)} & \\sigma_{zz}{\\left(r,\\theta,z \\right)}\\end{matrix}\\right]$"
      ],
      "text/plain": [
       "Matrix([\n",
       "[     \\sigma_{rr}(r, theta, z),      \\sigma_{r\\theta}(r, theta, z),      \\sigma_{rz}(r, theta, z)],\n",
       "[\\sigma_{r\\theta}(r, theta, z), \\sigma_{\\theta\\theta}(r, theta, z), \\sigma_{z\\theta}(r, theta, z)],\n",
       "[     \\sigma_{rz}(r, theta, z),      \\sigma_{z\\theta}(r, theta, z),      \\sigma_{zz}(r, theta, z)]])"
      ]
     },
     "execution_count": 6,
     "metadata": {},
     "output_type": "execute_result"
    }
   ],
   "source": [
    "sigma_rr = sym.Function(r'\\sigma_{rr}')(r,theta,z)\n",
    "sigma_tt = sym.Function(r'\\sigma_{\\theta\\theta}')(r,theta,z)\n",
    "sigma_zz = sym.Function(r'\\sigma_{zz}')(r,theta,z)\n",
    "sigma_rt = sym.Function(r'\\sigma_{r\\theta}')(r,theta,z)\n",
    "sigma_rz = sym.Function(r'\\sigma_{rz}')(r,theta,z)\n",
    "sigma_zt = sym.Function(r'\\sigma_{z\\theta}')(r,theta,z)\n",
    "sigma_cyl = sym.Matrix([[sigma_rr,sigma_rt,sigma_rz],[sigma_rt,sigma_tt,sigma_zt],[sigma_rz,sigma_zt,sigma_zz]])\n",
    "sigma_cyl"
   ]
  },
  {
   "cell_type": "code",
   "execution_count": 7,
   "id": "66a0d471-8290-4e81-b926-968a57d69aae",
   "metadata": {},
   "outputs": [],
   "source": [
    "sigma_cart = (Q.T)*(sigma_cyl)*(Q)"
   ]
  },
  {
   "cell_type": "code",
   "execution_count": 8,
   "id": "42d449a5-2684-4761-87c3-b43d4dd2922a",
   "metadata": {},
   "outputs": [],
   "source": [
    "def div(matrix):\n",
    "    v = sym.Matrix([0,0,0])\n",
    "    v[0] = del_delx(matrix[0,0]) + del_dely(matrix[0,1]) + del_delz(matrix[0,2]).simplify()\n",
    "    v[1] = del_delx(matrix[1,0]) + del_dely(matrix[1,1]) + del_delz(matrix[1,2]).simplify()\n",
    "    v[2] = del_delx(matrix[2,0]) + del_dely(matrix[2,1]) + del_delz(matrix[2,2]).simplify()\n",
    "    return v"
   ]
  },
  {
   "cell_type": "code",
   "execution_count": 9,
   "id": "1246d9ec-c3e6-454f-9c27-d628572b7b51",
   "metadata": {},
   "outputs": [
    {
     "data": {
      "text/latex": [
       "$\\displaystyle \\left[\\begin{matrix}\\frac{\\partial}{\\partial r} \\sigma_{rr}{\\left(r,\\theta,z \\right)} + \\frac{\\partial}{\\partial z} \\sigma_{rz}{\\left(r,\\theta,z \\right)} - \\frac{\\sigma_{\\theta\\theta}{\\left(r,\\theta,z \\right)}}{r} + \\frac{\\sigma_{rr}{\\left(r,\\theta,z \\right)}}{r} + \\frac{\\frac{\\partial}{\\partial \\theta} \\sigma_{r\\theta}{\\left(r,\\theta,z \\right)}}{r}\\\\\\frac{\\partial}{\\partial r} \\sigma_{r\\theta}{\\left(r,\\theta,z \\right)} + \\frac{\\partial}{\\partial z} \\sigma_{z\\theta}{\\left(r,\\theta,z \\right)} + \\frac{2 \\sigma_{r\\theta}{\\left(r,\\theta,z \\right)}}{r} + \\frac{\\frac{\\partial}{\\partial \\theta} \\sigma_{\\theta\\theta}{\\left(r,\\theta,z \\right)}}{r}\\\\\\frac{\\partial}{\\partial r} \\sigma_{rz}{\\left(r,\\theta,z \\right)} + \\frac{\\partial}{\\partial z} \\sigma_{zz}{\\left(r,\\theta,z \\right)} + \\frac{\\sigma_{rz}{\\left(r,\\theta,z \\right)}}{r} + \\frac{\\frac{\\partial}{\\partial \\theta} \\sigma_{z\\theta}{\\left(r,\\theta,z \\right)}}{r}\\end{matrix}\\right]$"
      ],
      "text/plain": [
       "Matrix([\n",
       "[Derivative(\\sigma_{rr}(r, theta, z), r) + Derivative(\\sigma_{rz}(r, theta, z), z) - \\sigma_{\\theta\\theta}(r, theta, z)/r + \\sigma_{rr}(r, theta, z)/r + Derivative(\\sigma_{r\\theta}(r, theta, z), theta)/r],\n",
       "[                 Derivative(\\sigma_{r\\theta}(r, theta, z), r) + Derivative(\\sigma_{z\\theta}(r, theta, z), z) + 2*\\sigma_{r\\theta}(r, theta, z)/r + Derivative(\\sigma_{\\theta\\theta}(r, theta, z), theta)/r],\n",
       "[                                       Derivative(\\sigma_{rz}(r, theta, z), r) + Derivative(\\sigma_{zz}(r, theta, z), z) + \\sigma_{rz}(r, theta, z)/r + Derivative(\\sigma_{z\\theta}(r, theta, z), theta)/r]])"
      ]
     },
     "metadata": {},
     "output_type": "display_data"
    }
   ],
   "source": [
    "div_sigma_cart = div(sigma_cart)\n",
    "div_sigma_cyl = (Q)*(div_sigma_cart)\n",
    "div_sigma_cyl[0] = div_sigma_cyl[0].simplify().expand()\n",
    "div_sigma_cyl[1] = div_sigma_cyl[1].simplify().expand()\n",
    "div_sigma_cyl[2] = div_sigma_cyl[2].simplify().expand()\n",
    "\n",
    "display(div_sigma_cyl)"
   ]
  }
 ],
 "metadata": {
  "kernelspec": {
   "display_name": "Python 3 (ipykernel)",
   "language": "python",
   "name": "python3"
  },
  "language_info": {
   "codemirror_mode": {
    "name": "ipython",
    "version": 3
   },
   "file_extension": ".py",
   "mimetype": "text/x-python",
   "name": "python",
   "nbconvert_exporter": "python",
   "pygments_lexer": "ipython3",
   "version": "3.12.4"
  }
 },
 "nbformat": 4,
 "nbformat_minor": 5
}
