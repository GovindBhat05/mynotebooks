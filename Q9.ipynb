{
 "cells": [
  {
   "cell_type": "code",
   "execution_count": 118,
   "id": "0277e5f0-c1e3-43c0-9424-069539c51cfb",
   "metadata": {},
   "outputs": [],
   "source": [
    "import sympy as sym\n",
    "from IPython.display import display, Math, Latex"
   ]
  },
  {
   "cell_type": "code",
   "execution_count": 119,
   "id": "d2b90732-a98e-4bb9-b251-af85a0bc51bd",
   "metadata": {},
   "outputs": [],
   "source": [
    "r,theta,z = sym.symbols('r,theta,z')"
   ]
  },
  {
   "cell_type": "code",
   "execution_count": 120,
   "id": "4f3673a4-4bf3-4eea-863d-3c2caebf51ff",
   "metadata": {},
   "outputs": [],
   "source": [
    "#sigma_rr,sigma_tt,sigma_zz,E,nu,epsilon_rr,epsilon_tt,epsilon_zz = sym.Funtion('sigma_rr,sigma_tt,sigma_zz,E,nu,epsilon_rr,epsilon_tt,epsilon_zz')(r)\n",
    "sigma_rr = sym.Function('sigma_rr')(r)\n",
    "sigma_tt = sym.Function('sigma_tt')(r)\n",
    "sigma_zz = sym.Function('sigma_zz')(r)\n",
    "epsilon_rr = sym.Function('epsilon_rr')(r)\n",
    "epsilon_tt = sym.Function('epsilon_tt')(r)\n",
    "epsilon_zz = sym.Function('epsilon_zz')(r)\n",
    "E,nu = sym.symbols('E,nu')\n",
    "\n",
    "\n"
   ]
  },
  {
   "cell_type": "code",
   "execution_count": 121,
   "id": "1fc68b94-1d86-43d0-b4c2-3987df2ed25d",
   "metadata": {},
   "outputs": [
    {
     "data": {
      "text/latex": [
       "$\\displaystyle \\epsilon_{rr}{\\left(r \\right)} = \\frac{- \\nu \\left(\\sigma_{tt}{\\left(r \\right)} + \\sigma_{zz}{\\left(r \\right)}\\right) + \\sigma_{rr}{\\left(r \\right)}}{E}$"
      ],
      "text/plain": [
       "Eq(epsilon_rr(r), (-nu*(sigma_tt(r) + sigma_zz(r)) + sigma_rr(r))/E)"
      ]
     },
     "metadata": {},
     "output_type": "display_data"
    },
    {
     "data": {
      "text/latex": [
       "$\\displaystyle \\epsilon_{tt}{\\left(r \\right)} = \\frac{- \\nu \\left(\\sigma_{rr}{\\left(r \\right)} + \\sigma_{zz}{\\left(r \\right)}\\right) + \\sigma_{tt}{\\left(r \\right)}}{E}$"
      ],
      "text/plain": [
       "Eq(epsilon_tt(r), (-nu*(sigma_rr(r) + sigma_zz(r)) + sigma_tt(r))/E)"
      ]
     },
     "metadata": {},
     "output_type": "display_data"
    },
    {
     "data": {
      "text/latex": [
       "$\\displaystyle 0 = \\frac{- \\nu \\left(\\sigma_{rr}{\\left(r \\right)} + \\sigma_{tt}{\\left(r \\right)}\\right) + \\sigma_{zz}{\\left(r \\right)}}{E}$"
      ],
      "text/plain": [
       "Eq(0, (-nu*(sigma_rr(r) + sigma_tt(r)) + sigma_zz(r))/E)"
      ]
     },
     "metadata": {},
     "output_type": "display_data"
    }
   ],
   "source": [
    "eq1 = sym.Eq(epsilon_rr, 1/E*(sigma_rr - nu*(sigma_tt + sigma_zz)))\n",
    "eq2 = sym.Eq(epsilon_tt, 1/E*(sigma_tt - nu*(sigma_rr + sigma_zz)))\n",
    "eq3 = sym.Eq(0, 1/E*(sigma_zz - nu*(sigma_rr + sigma_tt)))\n",
    "display(eq1,eq2,eq3)"
   ]
  },
  {
   "cell_type": "code",
   "execution_count": 122,
   "id": "49e288c2-6199-4a14-8832-3b24e886f382",
   "metadata": {},
   "outputs": [
    {
     "data": {
      "text/latex": [
       "$\\displaystyle \\left\\{ \\sigma_{rr}{\\left(r \\right)} : \\frac{E \\left(\\nu \\epsilon_{rr}{\\left(r \\right)} - \\nu \\epsilon_{tt}{\\left(r \\right)} - \\epsilon_{rr}{\\left(r \\right)}\\right)}{\\left(\\nu + 1\\right) \\left(2 \\nu - 1\\right)}, \\  \\sigma_{tt}{\\left(r \\right)} : - \\frac{E \\left(\\nu \\epsilon_{rr}{\\left(r \\right)} - \\nu \\epsilon_{tt}{\\left(r \\right)} + \\epsilon_{tt}{\\left(r \\right)}\\right)}{\\left(\\nu + 1\\right) \\left(2 \\nu - 1\\right)}, \\  \\sigma_{zz}{\\left(r \\right)} : - \\frac{E \\nu \\left(\\epsilon_{rr}{\\left(r \\right)} + \\epsilon_{tt}{\\left(r \\right)}\\right)}{\\left(\\nu + 1\\right) \\left(2 \\nu - 1\\right)}\\right\\}$"
      ],
      "text/plain": [
       "{sigma_rr(r): E*(nu*epsilon_rr(r) - nu*epsilon_tt(r) - epsilon_rr(r))/((nu + 1)*(2*nu - 1)), sigma_tt(r): -E*(nu*epsilon_rr(r) - nu*epsilon_tt(r) + epsilon_tt(r))/((nu + 1)*(2*nu - 1)), sigma_zz(r): -E*nu*(epsilon_rr(r) + epsilon_tt(r))/((nu + 1)*(2*nu - 1))}"
      ]
     },
     "metadata": {},
     "output_type": "display_data"
    }
   ],
   "source": [
    "soln = sym.solve([eq1, eq2, eq3], [sigma_zz, sigma_rr, sigma_tt])\n",
    "soln = sym.factor(soln)\n",
    "display(soln)\n"
   ]
  },
  {
   "cell_type": "code",
   "execution_count": 123,
   "id": "9568ec7e-bf83-448a-945b-15bdf01a1ed4",
   "metadata": {},
   "outputs": [
    {
     "data": {
      "text/latex": [
       "$\\displaystyle \\frac{d}{d r} u{\\left(r \\right)}$"
      ],
      "text/plain": [
       "Derivative(u(r), r)"
      ]
     },
     "execution_count": 123,
     "metadata": {},
     "output_type": "execute_result"
    }
   ],
   "source": [
    "u = sym.Function('u')(r)\n",
    "sym.diff(u,r)"
   ]
  },
  {
   "cell_type": "code",
   "execution_count": 124,
   "id": "68305bcc-3909-4a61-9ecf-b0c24fde9062",
   "metadata": {},
   "outputs": [
    {
     "data": {
      "text/latex": [
       "$\\displaystyle \\frac{E \\left(\\nu \\frac{d}{d r} u{\\left(r \\right)} - \\frac{\\nu u{\\left(r \\right)}}{r} - \\frac{d}{d r} u{\\left(r \\right)}\\right)}{\\left(\\nu + 1\\right) \\left(2 \\nu - 1\\right)}$"
      ],
      "text/plain": [
       "E*(nu*Derivative(u(r), r) - nu*u(r)/r - Derivative(u(r), r))/((nu + 1)*(2*nu - 1))"
      ]
     },
     "metadata": {},
     "output_type": "display_data"
    },
    {
     "data": {
      "text/latex": [
       "$\\displaystyle - \\frac{E \\left(\\nu \\frac{d}{d r} u{\\left(r \\right)} - \\frac{\\nu u{\\left(r \\right)}}{r} + \\frac{u{\\left(r \\right)}}{r}\\right)}{\\left(\\nu + 1\\right) \\left(2 \\nu - 1\\right)}$"
      ],
      "text/plain": [
       "-E*(nu*Derivative(u(r), r) - nu*u(r)/r + u(r)/r)/((nu + 1)*(2*nu - 1))"
      ]
     },
     "metadata": {},
     "output_type": "display_data"
    },
    {
     "data": {
      "text/latex": [
       "$\\displaystyle - \\frac{E \\nu \\left(\\frac{d}{d r} u{\\left(r \\right)} + \\frac{u{\\left(r \\right)}}{r}\\right)}{\\left(\\nu + 1\\right) \\left(2 \\nu - 1\\right)}$"
      ],
      "text/plain": [
       "-E*nu*(Derivative(u(r), r) + u(r)/r)/((nu + 1)*(2*nu - 1))"
      ]
     },
     "metadata": {},
     "output_type": "display_data"
    }
   ],
   "source": [
    "eq4 = sym.Eq(epsilon_rr, sym.diff(u,r))\n",
    "eq5 = sym.Eq(epsilon_tt, u/r)\n",
    "soln2 = soln.subs({epsilon_rr: sym.diff(u,r), epsilon_tt: u/r})\n",
    "sigma_rr = soln2[sigma_rr]\n",
    "sigma_tt = soln2[sigma_tt]\n",
    "sigma_zz = soln2[sigma_zz]\n",
    "display(sigma_rr,sigma_tt,sigma_zz)\n",
    "\n",
    "\n"
   ]
  },
  {
   "cell_type": "code",
   "execution_count": 125,
   "id": "176be371-7e3c-4292-834d-4145a988be45",
   "metadata": {
    "scrolled": true
   },
   "outputs": [
    {
     "data": {
      "text/latex": [
       "$\\displaystyle \\frac{E \\left(- \\nu u{\\left(r \\right)} + r^{2} \\left(\\nu - 1\\right) \\frac{d^{2}}{d r^{2}} u{\\left(r \\right)} - r \\left(1 - \\nu\\right) \\frac{d}{d r} u{\\left(r \\right)} + u{\\left(r \\right)}\\right)}{r^{2} \\left(\\nu + 1\\right) \\left(2 \\nu - 1\\right)} = 0$"
      ],
      "text/plain": [
       "Eq(E*(-nu*u(r) + r**2*(nu - 1)*Derivative(u(r), (r, 2)) - r*(1 - nu)*Derivative(u(r), r) + u(r))/(r**2*(nu + 1)*(2*nu - 1)), 0)"
      ]
     },
     "metadata": {},
     "output_type": "display_data"
    }
   ],
   "source": [
    "cond = (sym.diff(sigma_rr,r) + (sigma_rr - sigma_tt)/r).simplify()\n",
    "eq6 = sym.Eq(cond,0)\n",
    "display(eq6)\n"
   ]
  },
  {
   "cell_type": "code",
   "execution_count": 126,
   "id": "0cf7f803-f6dc-4e3d-bff2-962c6a31b008",
   "metadata": {},
   "outputs": [
    {
     "data": {
      "text/latex": [
       "$\\displaystyle u{\\left(r \\right)} = \\frac{C_{1}}{r} + C_{2} r$"
      ],
      "text/plain": [
       "Eq(u(r), C1/r + C2*r)"
      ]
     },
     "metadata": {},
     "output_type": "display_data"
    }
   ],
   "source": [
    "soln3 = sym.dsolve(eq6,u)\n",
    "display(soln3)"
   ]
  },
  {
   "cell_type": "code",
   "execution_count": 127,
   "id": "801660ef-be08-4b28-bb39-8bdcb32930a5",
   "metadata": {},
   "outputs": [],
   "source": [
    "C1,C2,C3,C4 = sym.symbols('C1,C2,C3,C4')\n",
    "u_soln1 = C1/r + C2*r\n",
    "u_soln2 = C3/r + C4*r\n",
    "E_1,E_2,nu_1,nu_2 = sym.symbols('E_1,E_2,nu_1,nu_2')\n",
    "sigma_rr1 = sigma_rr.subs([[E,E_1],[nu,nu_1]])\n",
    "sigma_tt1 = sigma_tt.subs([[E,E_1],[nu,nu_1]])\n",
    "sigma_zz1 = sigma_zz.subs([[E,E_1],[nu,nu_1]])\n",
    "sigma_rr2 = sigma_rr.subs([[E,E_2],[nu,nu_2]])\n",
    "sigma_tt2 = sigma_tt.subs([[E,E_2],[nu,nu_2]])\n",
    "sigma_zz2 = sigma_zz.subs([[E,E_2],[nu,nu_2]])\n",
    "\n",
    "\n"
   ]
  },
  {
   "cell_type": "code",
   "execution_count": 128,
   "id": "084b9c24-0596-4cb8-add2-16701943db7f",
   "metadata": {},
   "outputs": [
    {
     "data": {
      "text/latex": [
       "$\\displaystyle - \\frac{E_{1} \\cdot \\left(2 C_{1} \\nu_{1} - C_{1} + C_{2} r^{2}\\right)}{r^{2} \\left(\\nu_{1} + 1\\right) \\left(2 \\nu_{1} - 1\\right)}$"
      ],
      "text/plain": [
       "-E_1*(2*C1*nu_1 - C1 + C2*r**2)/(r**2*(nu_1 + 1)*(2*nu_1 - 1))"
      ]
     },
     "metadata": {},
     "output_type": "display_data"
    },
    {
     "data": {
      "text/latex": [
       "$\\displaystyle - \\frac{E_{1} \\left(- 2 C_{1} \\nu_{1} + C_{1} + C_{2} r^{2}\\right)}{r^{2} \\left(\\nu_{1} + 1\\right) \\left(2 \\nu_{1} - 1\\right)}$"
      ],
      "text/plain": [
       "-E_1*(-2*C1*nu_1 + C1 + C2*r**2)/(r**2*(nu_1 + 1)*(2*nu_1 - 1))"
      ]
     },
     "metadata": {},
     "output_type": "display_data"
    },
    {
     "data": {
      "text/latex": [
       "$\\displaystyle - \\frac{2 C_{2} E_{1} \\nu_{1}}{\\left(\\nu_{1} + 1\\right) \\left(2 \\nu_{1} - 1\\right)}$"
      ],
      "text/plain": [
       "-2*C2*E_1*nu_1/((nu_1 + 1)*(2*nu_1 - 1))"
      ]
     },
     "metadata": {},
     "output_type": "display_data"
    },
    {
     "data": {
      "text/latex": [
       "$\\displaystyle - \\frac{E_{2} \\cdot \\left(2 C_{3} \\nu_{2} - C_{3} + C_{4} r^{2}\\right)}{r^{2} \\left(\\nu_{2} + 1\\right) \\left(2 \\nu_{2} - 1\\right)}$"
      ],
      "text/plain": [
       "-E_2*(2*C3*nu_2 - C3 + C4*r**2)/(r**2*(nu_2 + 1)*(2*nu_2 - 1))"
      ]
     },
     "metadata": {},
     "output_type": "display_data"
    },
    {
     "data": {
      "text/latex": [
       "$\\displaystyle - \\frac{E_{2} \\left(- 2 C_{3} \\nu_{2} + C_{3} + C_{4} r^{2}\\right)}{r^{2} \\left(\\nu_{2} + 1\\right) \\left(2 \\nu_{2} - 1\\right)}$"
      ],
      "text/plain": [
       "-E_2*(-2*C3*nu_2 + C3 + C4*r**2)/(r**2*(nu_2 + 1)*(2*nu_2 - 1))"
      ]
     },
     "metadata": {},
     "output_type": "display_data"
    },
    {
     "data": {
      "text/latex": [
       "$\\displaystyle - \\frac{2 C_{4} E_{2} \\nu_{2}}{\\left(\\nu_{2} + 1\\right) \\left(2 \\nu_{2} - 1\\right)}$"
      ],
      "text/plain": [
       "-2*C4*E_2*nu_2/((nu_2 + 1)*(2*nu_2 - 1))"
      ]
     },
     "metadata": {},
     "output_type": "display_data"
    }
   ],
   "source": [
    "\n",
    "sigma_rr1 = sym.factor(sigma_rr1.replace(u,u_soln1).doit().simplify())\n",
    "sigma_tt1 = sym.factor(sigma_tt1.replace(u,u_soln1).doit().simplify())\n",
    "sigma_zz1 = sym.factor(sigma_zz1.replace(u,u_soln1).doit().simplify())\n",
    "sigma_rr2 = sym.factor(sigma_rr2.replace(u,u_soln2).doit().simplify())\n",
    "sigma_tt2 = sym.factor(sigma_tt2.replace(u,u_soln2).doit().simplify())\n",
    "sigma_zz2 = sym.factor(sigma_zz2.replace(u,u_soln2).doit().simplify())\n",
    "\n",
    "\n",
    "display(sigma_rr1,sigma_tt1,sigma_zz1,sigma_rr2,sigma_tt2,sigma_zz2)\n"
   ]
  },
  {
   "cell_type": "code",
   "execution_count": 129,
   "id": "f0c26eb3-3efe-41a9-851e-51db4ffbc087",
   "metadata": {},
   "outputs": [],
   "source": [
    "r_o,r_i,p_o,p_i,r_m = sym.symbols('r_o,r_i,p_o,p_i,r_m')"
   ]
  },
  {
   "cell_type": "code",
   "execution_count": 130,
   "id": "11a6c5fc-5c6c-4087-af88-36efb9c54918",
   "metadata": {
    "scrolled": true
   },
   "outputs": [
    {
     "data": {
      "text/latex": [
       "$\\displaystyle - \\frac{E_{1} \\cdot \\left(2 C_{1} \\nu_{1} - C_{1} + C_{2} r_{i}^{2}\\right)}{r_{i}^{2} \\left(\\nu_{1} + 1\\right) \\left(2 \\nu_{1} - 1\\right)} = - p_{i}$"
      ],
      "text/plain": [
       "Eq(-E_1*(2*C1*nu_1 - C1 + C2*r_i**2)/(r_i**2*(nu_1 + 1)*(2*nu_1 - 1)), -p_i)"
      ]
     },
     "metadata": {},
     "output_type": "display_data"
    },
    {
     "data": {
      "text/latex": [
       "$\\displaystyle - \\frac{E_{2} \\cdot \\left(2 C_{3} \\nu_{2} - C_{3} + C_{4} r_{o}^{2}\\right)}{r_{o}^{2} \\left(\\nu_{2} + 1\\right) \\left(2 \\nu_{2} - 1\\right)} = - p_{o}$"
      ],
      "text/plain": [
       "Eq(-E_2*(2*C3*nu_2 - C3 + C4*r_o**2)/(r_o**2*(nu_2 + 1)*(2*nu_2 - 1)), -p_o)"
      ]
     },
     "metadata": {},
     "output_type": "display_data"
    },
    {
     "data": {
      "text/latex": [
       "$\\displaystyle - \\frac{E_{1} \\cdot \\left(2 C_{1} \\nu_{1} - C_{1} + C_{2} r_{m}^{2}\\right)}{r_{m}^{2} \\left(\\nu_{1} + 1\\right) \\left(2 \\nu_{1} - 1\\right)} = - \\frac{E_{2} \\cdot \\left(2 C_{3} \\nu_{2} - C_{3} + C_{4} r_{m}^{2}\\right)}{r_{m}^{2} \\left(\\nu_{2} + 1\\right) \\left(2 \\nu_{2} - 1\\right)}$"
      ],
      "text/plain": [
       "Eq(-E_1*(2*C1*nu_1 - C1 + C2*r_m**2)/(r_m**2*(nu_1 + 1)*(2*nu_1 - 1)), -E_2*(2*C3*nu_2 - C3 + C4*r_m**2)/(r_m**2*(nu_2 + 1)*(2*nu_2 - 1)))"
      ]
     },
     "metadata": {},
     "output_type": "display_data"
    },
    {
     "data": {
      "text/latex": [
       "$\\displaystyle - \\frac{C_{1}}{r_{m}^{2}} + C_{2} = - \\frac{C_{3}}{r_{m}^{2}} + C_{4}$"
      ],
      "text/plain": [
       "Eq(-C1/r_m**2 + C2, -C3/r_m**2 + C4)"
      ]
     },
     "metadata": {},
     "output_type": "display_data"
    }
   ],
   "source": [
    "bc1 = sym.Eq(sigma_rr1.subs(r,r_i),-p_i)\n",
    "bc2 = sym.Eq(sigma_rr2.subs(r,r_o),-p_o)\n",
    "bc3 = sym.Eq(sigma_rr1.subs(r,r_m),sigma_rr2.subs(r,r_m))\n",
    "epsilon_rr1 = sym.diff(u_soln1,r)\n",
    "epsilon_rr2 = sym.diff(u_soln2,r)\n",
    "bc4 = sym.Eq(epsilon_rr1.subs(r,r_m),epsilon_rr2.subs(r,r_m))\n",
    "display(bc1,bc2,bc3,bc4)"
   ]
  },
  {
   "cell_type": "code",
   "execution_count": 131,
   "id": "02f4a739-c1ed-48c5-a9ea-060f56e9b35d",
   "metadata": {},
   "outputs": [
    {
     "data": {
      "text/latex": [
       "$\\displaystyle - \\frac{2 E_{1} \\nu_{2}^{2} p_{i} r^{2} r_{i}^{2} r_{m}^{2} - 2 E_{1} \\nu_{2}^{2} p_{i} r_{i}^{2} r_{m}^{4} - 2 E_{1} \\nu_{2}^{2} p_{o} r^{2} r_{m}^{2} r_{o}^{2} + 2 E_{1} \\nu_{2}^{2} p_{o} r_{i}^{2} r_{m}^{2} r_{o}^{2} + E_{1} \\nu_{2} p_{i} r^{2} r_{i}^{2} r_{m}^{2} + E_{1} \\nu_{2} p_{i} r^{2} r_{i}^{2} r_{o}^{2} - E_{1} \\nu_{2} p_{i} r_{i}^{2} r_{m}^{4} - E_{1} \\nu_{2} p_{i} r_{i}^{2} r_{m}^{2} r_{o}^{2} - 2 E_{1} \\nu_{2} p_{o} r^{2} r_{m}^{2} r_{o}^{2} + 2 E_{1} \\nu_{2} p_{o} r_{i}^{2} r_{m}^{2} r_{o}^{2} - E_{1} p_{i} r^{2} r_{i}^{2} r_{m}^{2} + E_{1} p_{i} r^{2} r_{i}^{2} r_{o}^{2} + E_{1} p_{i} r_{i}^{2} r_{m}^{4} - E_{1} p_{i} r_{i}^{2} r_{m}^{2} r_{o}^{2} + 2 E_{2} \\nu_{1}^{2} p_{i} r_{i}^{2} r_{m}^{4} - 2 E_{2} \\nu_{1}^{2} p_{i} r_{i}^{2} r_{m}^{2} r_{o}^{2} + E_{2} \\nu_{1} p_{i} r^{2} r_{i}^{2} r_{m}^{2} - E_{2} \\nu_{1} p_{i} r^{2} r_{i}^{2} r_{o}^{2} + E_{2} \\nu_{1} p_{i} r_{i}^{2} r_{m}^{4} - E_{2} \\nu_{1} p_{i} r_{i}^{2} r_{m}^{2} r_{o}^{2} + E_{2} p_{i} r^{2} r_{i}^{2} r_{m}^{2} - E_{2} p_{i} r^{2} r_{i}^{2} r_{o}^{2} - E_{2} p_{i} r_{i}^{2} r_{m}^{4} + E_{2} p_{i} r_{i}^{2} r_{m}^{2} r_{o}^{2}}{r^{2} \\cdot \\left(2 E_{1} \\nu_{2}^{2} r_{i}^{2} r_{m}^{2} - 2 E_{1} \\nu_{2}^{2} r_{m}^{4} + E_{1} \\nu_{2} r_{i}^{2} r_{m}^{2} + E_{1} \\nu_{2} r_{i}^{2} r_{o}^{2} - E_{1} \\nu_{2} r_{m}^{4} - E_{1} \\nu_{2} r_{m}^{2} r_{o}^{2} - E_{1} r_{i}^{2} r_{m}^{2} + E_{1} r_{i}^{2} r_{o}^{2} + E_{1} r_{m}^{4} - E_{1} r_{m}^{2} r_{o}^{2} + 2 E_{2} \\nu_{1}^{2} r_{m}^{4} - 2 E_{2} \\nu_{1}^{2} r_{m}^{2} r_{o}^{2} + E_{2} \\nu_{1} r_{i}^{2} r_{m}^{2} - E_{2} \\nu_{1} r_{i}^{2} r_{o}^{2} + E_{2} \\nu_{1} r_{m}^{4} - E_{2} \\nu_{1} r_{m}^{2} r_{o}^{2} + E_{2} r_{i}^{2} r_{m}^{2} - E_{2} r_{i}^{2} r_{o}^{2} - E_{2} r_{m}^{4} + E_{2} r_{m}^{2} r_{o}^{2}\\right)}$"
      ],
      "text/plain": [
       "-(2*E_1*nu_2**2*p_i*r**2*r_i**2*r_m**2 - 2*E_1*nu_2**2*p_i*r_i**2*r_m**4 - 2*E_1*nu_2**2*p_o*r**2*r_m**2*r_o**2 + 2*E_1*nu_2**2*p_o*r_i**2*r_m**2*r_o**2 + E_1*nu_2*p_i*r**2*r_i**2*r_m**2 + E_1*nu_2*p_i*r**2*r_i**2*r_o**2 - E_1*nu_2*p_i*r_i**2*r_m**4 - E_1*nu_2*p_i*r_i**2*r_m**2*r_o**2 - 2*E_1*nu_2*p_o*r**2*r_m**2*r_o**2 + 2*E_1*nu_2*p_o*r_i**2*r_m**2*r_o**2 - E_1*p_i*r**2*r_i**2*r_m**2 + E_1*p_i*r**2*r_i**2*r_o**2 + E_1*p_i*r_i**2*r_m**4 - E_1*p_i*r_i**2*r_m**2*r_o**2 + 2*E_2*nu_1**2*p_i*r_i**2*r_m**4 - 2*E_2*nu_1**2*p_i*r_i**2*r_m**2*r_o**2 + E_2*nu_1*p_i*r**2*r_i**2*r_m**2 - E_2*nu_1*p_i*r**2*r_i**2*r_o**2 + E_2*nu_1*p_i*r_i**2*r_m**4 - E_2*nu_1*p_i*r_i**2*r_m**2*r_o**2 + E_2*p_i*r**2*r_i**2*r_m**2 - E_2*p_i*r**2*r_i**2*r_o**2 - E_2*p_i*r_i**2*r_m**4 + E_2*p_i*r_i**2*r_m**2*r_o**2)/(r**2*(2*E_1*nu_2**2*r_i**2*r_m**2 - 2*E_1*nu_2**2*r_m**4 + E_1*nu_2*r_i**2*r_m**2 + E_1*nu_2*r_i**2*r_o**2 - E_1*nu_2*r_m**4 - E_1*nu_2*r_m**2*r_o**2 - E_1*r_i**2*r_m**2 + E_1*r_i**2*r_o**2 + E_1*r_m**4 - E_1*r_m**2*r_o**2 + 2*E_2*nu_1**2*r_m**4 - 2*E_2*nu_1**2*r_m**2*r_o**2 + E_2*nu_1*r_i**2*r_m**2 - E_2*nu_1*r_i**2*r_o**2 + E_2*nu_1*r_m**4 - E_2*nu_1*r_m**2*r_o**2 + E_2*r_i**2*r_m**2 - E_2*r_i**2*r_o**2 - E_2*r_m**4 + E_2*r_m**2*r_o**2))"
      ]
     },
     "metadata": {},
     "output_type": "display_data"
    },
    {
     "data": {
      "text/latex": [
       "$\\displaystyle - \\frac{2 E_{1} \\nu_{2}^{2} p_{i} r^{2} r_{i}^{2} r_{m}^{2} + 2 E_{1} \\nu_{2}^{2} p_{i} r_{i}^{2} r_{m}^{4} - 2 E_{1} \\nu_{2}^{2} p_{o} r^{2} r_{m}^{2} r_{o}^{2} - 2 E_{1} \\nu_{2}^{2} p_{o} r_{i}^{2} r_{m}^{2} r_{o}^{2} + E_{1} \\nu_{2} p_{i} r^{2} r_{i}^{2} r_{m}^{2} + E_{1} \\nu_{2} p_{i} r^{2} r_{i}^{2} r_{o}^{2} + E_{1} \\nu_{2} p_{i} r_{i}^{2} r_{m}^{4} + E_{1} \\nu_{2} p_{i} r_{i}^{2} r_{m}^{2} r_{o}^{2} - 2 E_{1} \\nu_{2} p_{o} r^{2} r_{m}^{2} r_{o}^{2} - 2 E_{1} \\nu_{2} p_{o} r_{i}^{2} r_{m}^{2} r_{o}^{2} - E_{1} p_{i} r^{2} r_{i}^{2} r_{m}^{2} + E_{1} p_{i} r^{2} r_{i}^{2} r_{o}^{2} - E_{1} p_{i} r_{i}^{2} r_{m}^{4} + E_{1} p_{i} r_{i}^{2} r_{m}^{2} r_{o}^{2} - 2 E_{2} \\nu_{1}^{2} p_{i} r_{i}^{2} r_{m}^{4} + 2 E_{2} \\nu_{1}^{2} p_{i} r_{i}^{2} r_{m}^{2} r_{o}^{2} + E_{2} \\nu_{1} p_{i} r^{2} r_{i}^{2} r_{m}^{2} - E_{2} \\nu_{1} p_{i} r^{2} r_{i}^{2} r_{o}^{2} - E_{2} \\nu_{1} p_{i} r_{i}^{2} r_{m}^{4} + E_{2} \\nu_{1} p_{i} r_{i}^{2} r_{m}^{2} r_{o}^{2} + E_{2} p_{i} r^{2} r_{i}^{2} r_{m}^{2} - E_{2} p_{i} r^{2} r_{i}^{2} r_{o}^{2} + E_{2} p_{i} r_{i}^{2} r_{m}^{4} - E_{2} p_{i} r_{i}^{2} r_{m}^{2} r_{o}^{2}}{r^{2} \\cdot \\left(2 E_{1} \\nu_{2}^{2} r_{i}^{2} r_{m}^{2} - 2 E_{1} \\nu_{2}^{2} r_{m}^{4} + E_{1} \\nu_{2} r_{i}^{2} r_{m}^{2} + E_{1} \\nu_{2} r_{i}^{2} r_{o}^{2} - E_{1} \\nu_{2} r_{m}^{4} - E_{1} \\nu_{2} r_{m}^{2} r_{o}^{2} - E_{1} r_{i}^{2} r_{m}^{2} + E_{1} r_{i}^{2} r_{o}^{2} + E_{1} r_{m}^{4} - E_{1} r_{m}^{2} r_{o}^{2} + 2 E_{2} \\nu_{1}^{2} r_{m}^{4} - 2 E_{2} \\nu_{1}^{2} r_{m}^{2} r_{o}^{2} + E_{2} \\nu_{1} r_{i}^{2} r_{m}^{2} - E_{2} \\nu_{1} r_{i}^{2} r_{o}^{2} + E_{2} \\nu_{1} r_{m}^{4} - E_{2} \\nu_{1} r_{m}^{2} r_{o}^{2} + E_{2} r_{i}^{2} r_{m}^{2} - E_{2} r_{i}^{2} r_{o}^{2} - E_{2} r_{m}^{4} + E_{2} r_{m}^{2} r_{o}^{2}\\right)}$"
      ],
      "text/plain": [
       "-(2*E_1*nu_2**2*p_i*r**2*r_i**2*r_m**2 + 2*E_1*nu_2**2*p_i*r_i**2*r_m**4 - 2*E_1*nu_2**2*p_o*r**2*r_m**2*r_o**2 - 2*E_1*nu_2**2*p_o*r_i**2*r_m**2*r_o**2 + E_1*nu_2*p_i*r**2*r_i**2*r_m**2 + E_1*nu_2*p_i*r**2*r_i**2*r_o**2 + E_1*nu_2*p_i*r_i**2*r_m**4 + E_1*nu_2*p_i*r_i**2*r_m**2*r_o**2 - 2*E_1*nu_2*p_o*r**2*r_m**2*r_o**2 - 2*E_1*nu_2*p_o*r_i**2*r_m**2*r_o**2 - E_1*p_i*r**2*r_i**2*r_m**2 + E_1*p_i*r**2*r_i**2*r_o**2 - E_1*p_i*r_i**2*r_m**4 + E_1*p_i*r_i**2*r_m**2*r_o**2 - 2*E_2*nu_1**2*p_i*r_i**2*r_m**4 + 2*E_2*nu_1**2*p_i*r_i**2*r_m**2*r_o**2 + E_2*nu_1*p_i*r**2*r_i**2*r_m**2 - E_2*nu_1*p_i*r**2*r_i**2*r_o**2 - E_2*nu_1*p_i*r_i**2*r_m**4 + E_2*nu_1*p_i*r_i**2*r_m**2*r_o**2 + E_2*p_i*r**2*r_i**2*r_m**2 - E_2*p_i*r**2*r_i**2*r_o**2 + E_2*p_i*r_i**2*r_m**4 - E_2*p_i*r_i**2*r_m**2*r_o**2)/(r**2*(2*E_1*nu_2**2*r_i**2*r_m**2 - 2*E_1*nu_2**2*r_m**4 + E_1*nu_2*r_i**2*r_m**2 + E_1*nu_2*r_i**2*r_o**2 - E_1*nu_2*r_m**4 - E_1*nu_2*r_m**2*r_o**2 - E_1*r_i**2*r_m**2 + E_1*r_i**2*r_o**2 + E_1*r_m**4 - E_1*r_m**2*r_o**2 + 2*E_2*nu_1**2*r_m**4 - 2*E_2*nu_1**2*r_m**2*r_o**2 + E_2*nu_1*r_i**2*r_m**2 - E_2*nu_1*r_i**2*r_o**2 + E_2*nu_1*r_m**4 - E_2*nu_1*r_m**2*r_o**2 + E_2*r_i**2*r_m**2 - E_2*r_i**2*r_o**2 - E_2*r_m**4 + E_2*r_m**2*r_o**2))"
      ]
     },
     "metadata": {},
     "output_type": "display_data"
    },
    {
     "data": {
      "text/latex": [
       "$\\displaystyle - \\frac{2 \\nu_{1} \\cdot \\left(2 E_{1} \\nu_{2}^{2} p_{i} r_{i}^{2} r_{m}^{2} - 2 E_{1} \\nu_{2}^{2} p_{o} r_{m}^{2} r_{o}^{2} + E_{1} \\nu_{2} p_{i} r_{i}^{2} r_{m}^{2} + E_{1} \\nu_{2} p_{i} r_{i}^{2} r_{o}^{2} - 2 E_{1} \\nu_{2} p_{o} r_{m}^{2} r_{o}^{2} - E_{1} p_{i} r_{i}^{2} r_{m}^{2} + E_{1} p_{i} r_{i}^{2} r_{o}^{2} + E_{2} \\nu_{1} p_{i} r_{i}^{2} r_{m}^{2} - E_{2} \\nu_{1} p_{i} r_{i}^{2} r_{o}^{2} + E_{2} p_{i} r_{i}^{2} r_{m}^{2} - E_{2} p_{i} r_{i}^{2} r_{o}^{2}\\right)}{2 E_{1} \\nu_{2}^{2} r_{i}^{2} r_{m}^{2} - 2 E_{1} \\nu_{2}^{2} r_{m}^{4} + E_{1} \\nu_{2} r_{i}^{2} r_{m}^{2} + E_{1} \\nu_{2} r_{i}^{2} r_{o}^{2} - E_{1} \\nu_{2} r_{m}^{4} - E_{1} \\nu_{2} r_{m}^{2} r_{o}^{2} - E_{1} r_{i}^{2} r_{m}^{2} + E_{1} r_{i}^{2} r_{o}^{2} + E_{1} r_{m}^{4} - E_{1} r_{m}^{2} r_{o}^{2} + 2 E_{2} \\nu_{1}^{2} r_{m}^{4} - 2 E_{2} \\nu_{1}^{2} r_{m}^{2} r_{o}^{2} + E_{2} \\nu_{1} r_{i}^{2} r_{m}^{2} - E_{2} \\nu_{1} r_{i}^{2} r_{o}^{2} + E_{2} \\nu_{1} r_{m}^{4} - E_{2} \\nu_{1} r_{m}^{2} r_{o}^{2} + E_{2} r_{i}^{2} r_{m}^{2} - E_{2} r_{i}^{2} r_{o}^{2} - E_{2} r_{m}^{4} + E_{2} r_{m}^{2} r_{o}^{2}}$"
      ],
      "text/plain": [
       "-2*nu_1*(2*E_1*nu_2**2*p_i*r_i**2*r_m**2 - 2*E_1*nu_2**2*p_o*r_m**2*r_o**2 + E_1*nu_2*p_i*r_i**2*r_m**2 + E_1*nu_2*p_i*r_i**2*r_o**2 - 2*E_1*nu_2*p_o*r_m**2*r_o**2 - E_1*p_i*r_i**2*r_m**2 + E_1*p_i*r_i**2*r_o**2 + E_2*nu_1*p_i*r_i**2*r_m**2 - E_2*nu_1*p_i*r_i**2*r_o**2 + E_2*p_i*r_i**2*r_m**2 - E_2*p_i*r_i**2*r_o**2)/(2*E_1*nu_2**2*r_i**2*r_m**2 - 2*E_1*nu_2**2*r_m**4 + E_1*nu_2*r_i**2*r_m**2 + E_1*nu_2*r_i**2*r_o**2 - E_1*nu_2*r_m**4 - E_1*nu_2*r_m**2*r_o**2 - E_1*r_i**2*r_m**2 + E_1*r_i**2*r_o**2 + E_1*r_m**4 - E_1*r_m**2*r_o**2 + 2*E_2*nu_1**2*r_m**4 - 2*E_2*nu_1**2*r_m**2*r_o**2 + E_2*nu_1*r_i**2*r_m**2 - E_2*nu_1*r_i**2*r_o**2 + E_2*nu_1*r_m**4 - E_2*nu_1*r_m**2*r_o**2 + E_2*r_i**2*r_m**2 - E_2*r_i**2*r_o**2 - E_2*r_m**4 + E_2*r_m**2*r_o**2)"
      ]
     },
     "metadata": {},
     "output_type": "display_data"
    },
    {
     "data": {
      "text/latex": [
       "$\\displaystyle - \\frac{2 E_{1} \\nu_{2}^{2} p_{o} r_{i}^{2} r_{m}^{2} r_{o}^{2} - 2 E_{1} \\nu_{2}^{2} p_{o} r_{m}^{4} r_{o}^{2} + E_{1} \\nu_{2} p_{o} r^{2} r_{i}^{2} r_{o}^{2} - E_{1} \\nu_{2} p_{o} r^{2} r_{m}^{2} r_{o}^{2} + E_{1} \\nu_{2} p_{o} r_{i}^{2} r_{m}^{2} r_{o}^{2} - E_{1} \\nu_{2} p_{o} r_{m}^{4} r_{o}^{2} + E_{1} p_{o} r^{2} r_{i}^{2} r_{o}^{2} - E_{1} p_{o} r^{2} r_{m}^{2} r_{o}^{2} - E_{1} p_{o} r_{i}^{2} r_{m}^{2} r_{o}^{2} + E_{1} p_{o} r_{m}^{4} r_{o}^{2} + 2 E_{2} \\nu_{1}^{2} p_{i} r^{2} r_{i}^{2} r_{m}^{2} - 2 E_{2} \\nu_{1}^{2} p_{i} r_{i}^{2} r_{m}^{2} r_{o}^{2} - 2 E_{2} \\nu_{1}^{2} p_{o} r^{2} r_{m}^{2} r_{o}^{2} + 2 E_{2} \\nu_{1}^{2} p_{o} r_{m}^{4} r_{o}^{2} + 2 E_{2} \\nu_{1} p_{i} r^{2} r_{i}^{2} r_{m}^{2} - 2 E_{2} \\nu_{1} p_{i} r_{i}^{2} r_{m}^{2} r_{o}^{2} - E_{2} \\nu_{1} p_{o} r^{2} r_{i}^{2} r_{o}^{2} - E_{2} \\nu_{1} p_{o} r^{2} r_{m}^{2} r_{o}^{2} + E_{2} \\nu_{1} p_{o} r_{i}^{2} r_{m}^{2} r_{o}^{2} + E_{2} \\nu_{1} p_{o} r_{m}^{4} r_{o}^{2} - E_{2} p_{o} r^{2} r_{i}^{2} r_{o}^{2} + E_{2} p_{o} r^{2} r_{m}^{2} r_{o}^{2} + E_{2} p_{o} r_{i}^{2} r_{m}^{2} r_{o}^{2} - E_{2} p_{o} r_{m}^{4} r_{o}^{2}}{r^{2} \\cdot \\left(2 E_{1} \\nu_{2}^{2} r_{i}^{2} r_{m}^{2} - 2 E_{1} \\nu_{2}^{2} r_{m}^{4} + E_{1} \\nu_{2} r_{i}^{2} r_{m}^{2} + E_{1} \\nu_{2} r_{i}^{2} r_{o}^{2} - E_{1} \\nu_{2} r_{m}^{4} - E_{1} \\nu_{2} r_{m}^{2} r_{o}^{2} - E_{1} r_{i}^{2} r_{m}^{2} + E_{1} r_{i}^{2} r_{o}^{2} + E_{1} r_{m}^{4} - E_{1} r_{m}^{2} r_{o}^{2} + 2 E_{2} \\nu_{1}^{2} r_{m}^{4} - 2 E_{2} \\nu_{1}^{2} r_{m}^{2} r_{o}^{2} + E_{2} \\nu_{1} r_{i}^{2} r_{m}^{2} - E_{2} \\nu_{1} r_{i}^{2} r_{o}^{2} + E_{2} \\nu_{1} r_{m}^{4} - E_{2} \\nu_{1} r_{m}^{2} r_{o}^{2} + E_{2} r_{i}^{2} r_{m}^{2} - E_{2} r_{i}^{2} r_{o}^{2} - E_{2} r_{m}^{4} + E_{2} r_{m}^{2} r_{o}^{2}\\right)}$"
      ],
      "text/plain": [
       "-(2*E_1*nu_2**2*p_o*r_i**2*r_m**2*r_o**2 - 2*E_1*nu_2**2*p_o*r_m**4*r_o**2 + E_1*nu_2*p_o*r**2*r_i**2*r_o**2 - E_1*nu_2*p_o*r**2*r_m**2*r_o**2 + E_1*nu_2*p_o*r_i**2*r_m**2*r_o**2 - E_1*nu_2*p_o*r_m**4*r_o**2 + E_1*p_o*r**2*r_i**2*r_o**2 - E_1*p_o*r**2*r_m**2*r_o**2 - E_1*p_o*r_i**2*r_m**2*r_o**2 + E_1*p_o*r_m**4*r_o**2 + 2*E_2*nu_1**2*p_i*r**2*r_i**2*r_m**2 - 2*E_2*nu_1**2*p_i*r_i**2*r_m**2*r_o**2 - 2*E_2*nu_1**2*p_o*r**2*r_m**2*r_o**2 + 2*E_2*nu_1**2*p_o*r_m**4*r_o**2 + 2*E_2*nu_1*p_i*r**2*r_i**2*r_m**2 - 2*E_2*nu_1*p_i*r_i**2*r_m**2*r_o**2 - E_2*nu_1*p_o*r**2*r_i**2*r_o**2 - E_2*nu_1*p_o*r**2*r_m**2*r_o**2 + E_2*nu_1*p_o*r_i**2*r_m**2*r_o**2 + E_2*nu_1*p_o*r_m**4*r_o**2 - E_2*p_o*r**2*r_i**2*r_o**2 + E_2*p_o*r**2*r_m**2*r_o**2 + E_2*p_o*r_i**2*r_m**2*r_o**2 - E_2*p_o*r_m**4*r_o**2)/(r**2*(2*E_1*nu_2**2*r_i**2*r_m**2 - 2*E_1*nu_2**2*r_m**4 + E_1*nu_2*r_i**2*r_m**2 + E_1*nu_2*r_i**2*r_o**2 - E_1*nu_2*r_m**4 - E_1*nu_2*r_m**2*r_o**2 - E_1*r_i**2*r_m**2 + E_1*r_i**2*r_o**2 + E_1*r_m**4 - E_1*r_m**2*r_o**2 + 2*E_2*nu_1**2*r_m**4 - 2*E_2*nu_1**2*r_m**2*r_o**2 + E_2*nu_1*r_i**2*r_m**2 - E_2*nu_1*r_i**2*r_o**2 + E_2*nu_1*r_m**4 - E_2*nu_1*r_m**2*r_o**2 + E_2*r_i**2*r_m**2 - E_2*r_i**2*r_o**2 - E_2*r_m**4 + E_2*r_m**2*r_o**2))"
      ]
     },
     "metadata": {},
     "output_type": "display_data"
    },
    {
     "data": {
      "text/latex": [
       "$\\displaystyle - \\frac{- 2 E_{1} \\nu_{2}^{2} p_{o} r_{i}^{2} r_{m}^{2} r_{o}^{2} + 2 E_{1} \\nu_{2}^{2} p_{o} r_{m}^{4} r_{o}^{2} + E_{1} \\nu_{2} p_{o} r^{2} r_{i}^{2} r_{o}^{2} - E_{1} \\nu_{2} p_{o} r^{2} r_{m}^{2} r_{o}^{2} - E_{1} \\nu_{2} p_{o} r_{i}^{2} r_{m}^{2} r_{o}^{2} + E_{1} \\nu_{2} p_{o} r_{m}^{4} r_{o}^{2} + E_{1} p_{o} r^{2} r_{i}^{2} r_{o}^{2} - E_{1} p_{o} r^{2} r_{m}^{2} r_{o}^{2} + E_{1} p_{o} r_{i}^{2} r_{m}^{2} r_{o}^{2} - E_{1} p_{o} r_{m}^{4} r_{o}^{2} + 2 E_{2} \\nu_{1}^{2} p_{i} r^{2} r_{i}^{2} r_{m}^{2} + 2 E_{2} \\nu_{1}^{2} p_{i} r_{i}^{2} r_{m}^{2} r_{o}^{2} - 2 E_{2} \\nu_{1}^{2} p_{o} r^{2} r_{m}^{2} r_{o}^{2} - 2 E_{2} \\nu_{1}^{2} p_{o} r_{m}^{4} r_{o}^{2} + 2 E_{2} \\nu_{1} p_{i} r^{2} r_{i}^{2} r_{m}^{2} + 2 E_{2} \\nu_{1} p_{i} r_{i}^{2} r_{m}^{2} r_{o}^{2} - E_{2} \\nu_{1} p_{o} r^{2} r_{i}^{2} r_{o}^{2} - E_{2} \\nu_{1} p_{o} r^{2} r_{m}^{2} r_{o}^{2} - E_{2} \\nu_{1} p_{o} r_{i}^{2} r_{m}^{2} r_{o}^{2} - E_{2} \\nu_{1} p_{o} r_{m}^{4} r_{o}^{2} - E_{2} p_{o} r^{2} r_{i}^{2} r_{o}^{2} + E_{2} p_{o} r^{2} r_{m}^{2} r_{o}^{2} - E_{2} p_{o} r_{i}^{2} r_{m}^{2} r_{o}^{2} + E_{2} p_{o} r_{m}^{4} r_{o}^{2}}{r^{2} \\cdot \\left(2 E_{1} \\nu_{2}^{2} r_{i}^{2} r_{m}^{2} - 2 E_{1} \\nu_{2}^{2} r_{m}^{4} + E_{1} \\nu_{2} r_{i}^{2} r_{m}^{2} + E_{1} \\nu_{2} r_{i}^{2} r_{o}^{2} - E_{1} \\nu_{2} r_{m}^{4} - E_{1} \\nu_{2} r_{m}^{2} r_{o}^{2} - E_{1} r_{i}^{2} r_{m}^{2} + E_{1} r_{i}^{2} r_{o}^{2} + E_{1} r_{m}^{4} - E_{1} r_{m}^{2} r_{o}^{2} + 2 E_{2} \\nu_{1}^{2} r_{m}^{4} - 2 E_{2} \\nu_{1}^{2} r_{m}^{2} r_{o}^{2} + E_{2} \\nu_{1} r_{i}^{2} r_{m}^{2} - E_{2} \\nu_{1} r_{i}^{2} r_{o}^{2} + E_{2} \\nu_{1} r_{m}^{4} - E_{2} \\nu_{1} r_{m}^{2} r_{o}^{2} + E_{2} r_{i}^{2} r_{m}^{2} - E_{2} r_{i}^{2} r_{o}^{2} - E_{2} r_{m}^{4} + E_{2} r_{m}^{2} r_{o}^{2}\\right)}$"
      ],
      "text/plain": [
       "-(-2*E_1*nu_2**2*p_o*r_i**2*r_m**2*r_o**2 + 2*E_1*nu_2**2*p_o*r_m**4*r_o**2 + E_1*nu_2*p_o*r**2*r_i**2*r_o**2 - E_1*nu_2*p_o*r**2*r_m**2*r_o**2 - E_1*nu_2*p_o*r_i**2*r_m**2*r_o**2 + E_1*nu_2*p_o*r_m**4*r_o**2 + E_1*p_o*r**2*r_i**2*r_o**2 - E_1*p_o*r**2*r_m**2*r_o**2 + E_1*p_o*r_i**2*r_m**2*r_o**2 - E_1*p_o*r_m**4*r_o**2 + 2*E_2*nu_1**2*p_i*r**2*r_i**2*r_m**2 + 2*E_2*nu_1**2*p_i*r_i**2*r_m**2*r_o**2 - 2*E_2*nu_1**2*p_o*r**2*r_m**2*r_o**2 - 2*E_2*nu_1**2*p_o*r_m**4*r_o**2 + 2*E_2*nu_1*p_i*r**2*r_i**2*r_m**2 + 2*E_2*nu_1*p_i*r_i**2*r_m**2*r_o**2 - E_2*nu_1*p_o*r**2*r_i**2*r_o**2 - E_2*nu_1*p_o*r**2*r_m**2*r_o**2 - E_2*nu_1*p_o*r_i**2*r_m**2*r_o**2 - E_2*nu_1*p_o*r_m**4*r_o**2 - E_2*p_o*r**2*r_i**2*r_o**2 + E_2*p_o*r**2*r_m**2*r_o**2 - E_2*p_o*r_i**2*r_m**2*r_o**2 + E_2*p_o*r_m**4*r_o**2)/(r**2*(2*E_1*nu_2**2*r_i**2*r_m**2 - 2*E_1*nu_2**2*r_m**4 + E_1*nu_2*r_i**2*r_m**2 + E_1*nu_2*r_i**2*r_o**2 - E_1*nu_2*r_m**4 - E_1*nu_2*r_m**2*r_o**2 - E_1*r_i**2*r_m**2 + E_1*r_i**2*r_o**2 + E_1*r_m**4 - E_1*r_m**2*r_o**2 + 2*E_2*nu_1**2*r_m**4 - 2*E_2*nu_1**2*r_m**2*r_o**2 + E_2*nu_1*r_i**2*r_m**2 - E_2*nu_1*r_i**2*r_o**2 + E_2*nu_1*r_m**4 - E_2*nu_1*r_m**2*r_o**2 + E_2*r_i**2*r_m**2 - E_2*r_i**2*r_o**2 - E_2*r_m**4 + E_2*r_m**2*r_o**2))"
      ]
     },
     "metadata": {},
     "output_type": "display_data"
    },
    {
     "data": {
      "text/latex": [
       "$\\displaystyle - \\frac{2 \\nu_{2} \\left(E_{1} \\nu_{2} p_{o} r_{i}^{2} r_{o}^{2} - E_{1} \\nu_{2} p_{o} r_{m}^{2} r_{o}^{2} + E_{1} p_{o} r_{i}^{2} r_{o}^{2} - E_{1} p_{o} r_{m}^{2} r_{o}^{2} + 2 E_{2} \\nu_{1}^{2} p_{i} r_{i}^{2} r_{m}^{2} - 2 E_{2} \\nu_{1}^{2} p_{o} r_{m}^{2} r_{o}^{2} + 2 E_{2} \\nu_{1} p_{i} r_{i}^{2} r_{m}^{2} - E_{2} \\nu_{1} p_{o} r_{i}^{2} r_{o}^{2} - E_{2} \\nu_{1} p_{o} r_{m}^{2} r_{o}^{2} - E_{2} p_{o} r_{i}^{2} r_{o}^{2} + E_{2} p_{o} r_{m}^{2} r_{o}^{2}\\right)}{2 E_{1} \\nu_{2}^{2} r_{i}^{2} r_{m}^{2} - 2 E_{1} \\nu_{2}^{2} r_{m}^{4} + E_{1} \\nu_{2} r_{i}^{2} r_{m}^{2} + E_{1} \\nu_{2} r_{i}^{2} r_{o}^{2} - E_{1} \\nu_{2} r_{m}^{4} - E_{1} \\nu_{2} r_{m}^{2} r_{o}^{2} - E_{1} r_{i}^{2} r_{m}^{2} + E_{1} r_{i}^{2} r_{o}^{2} + E_{1} r_{m}^{4} - E_{1} r_{m}^{2} r_{o}^{2} + 2 E_{2} \\nu_{1}^{2} r_{m}^{4} - 2 E_{2} \\nu_{1}^{2} r_{m}^{2} r_{o}^{2} + E_{2} \\nu_{1} r_{i}^{2} r_{m}^{2} - E_{2} \\nu_{1} r_{i}^{2} r_{o}^{2} + E_{2} \\nu_{1} r_{m}^{4} - E_{2} \\nu_{1} r_{m}^{2} r_{o}^{2} + E_{2} r_{i}^{2} r_{m}^{2} - E_{2} r_{i}^{2} r_{o}^{2} - E_{2} r_{m}^{4} + E_{2} r_{m}^{2} r_{o}^{2}}$"
      ],
      "text/plain": [
       "-2*nu_2*(E_1*nu_2*p_o*r_i**2*r_o**2 - E_1*nu_2*p_o*r_m**2*r_o**2 + E_1*p_o*r_i**2*r_o**2 - E_1*p_o*r_m**2*r_o**2 + 2*E_2*nu_1**2*p_i*r_i**2*r_m**2 - 2*E_2*nu_1**2*p_o*r_m**2*r_o**2 + 2*E_2*nu_1*p_i*r_i**2*r_m**2 - E_2*nu_1*p_o*r_i**2*r_o**2 - E_2*nu_1*p_o*r_m**2*r_o**2 - E_2*p_o*r_i**2*r_o**2 + E_2*p_o*r_m**2*r_o**2)/(2*E_1*nu_2**2*r_i**2*r_m**2 - 2*E_1*nu_2**2*r_m**4 + E_1*nu_2*r_i**2*r_m**2 + E_1*nu_2*r_i**2*r_o**2 - E_1*nu_2*r_m**4 - E_1*nu_2*r_m**2*r_o**2 - E_1*r_i**2*r_m**2 + E_1*r_i**2*r_o**2 + E_1*r_m**4 - E_1*r_m**2*r_o**2 + 2*E_2*nu_1**2*r_m**4 - 2*E_2*nu_1**2*r_m**2*r_o**2 + E_2*nu_1*r_i**2*r_m**2 - E_2*nu_1*r_i**2*r_o**2 + E_2*nu_1*r_m**4 - E_2*nu_1*r_m**2*r_o**2 + E_2*r_i**2*r_m**2 - E_2*r_i**2*r_o**2 - E_2*r_m**4 + E_2*r_m**2*r_o**2)"
      ]
     },
     "metadata": {},
     "output_type": "display_data"
    }
   ],
   "source": [
    "soln4 = sym.factor(sym.solve([bc1,bc2,bc3,bc4],[C1,C2,C3,C4]))\n",
    "soln4 = soln4.simplify()\n",
    "\n",
    "sigma_rr1_soln = sym.factor(sigma_rr1.subs([(C1,soln4[C1]),(C2,soln4[C2]),(C3,soln4[C3]),(C4,soln4[C4])]).simplify())\n",
    "sigma_tt1_soln = sym.factor(sigma_tt1.subs([(C1,soln4[C1]),(C2,soln4[C2]),(C3,soln4[C3]),(C4,soln4[C4])]).simplify())\n",
    "sigma_zz1_soln = sym.factor(sigma_zz1.subs([(C1,soln4[C1]),(C2,soln4[C2]),(C3,soln4[C3]),(C4,soln4[C4])]).simplify())\n",
    "sigma_rr2_soln = sym.factor(sigma_rr2.subs([(C1,soln4[C1]),(C2,soln4[C2]),(C3,soln4[C3]),(C4,soln4[C4])]).simplify())\n",
    "sigma_tt2_soln = sym.factor(sigma_tt2.subs([(C1,soln4[C1]),(C2,soln4[C2]),(C3,soln4[C3]),(C4,soln4[C4])]).simplify())\n",
    "sigma_zz2_soln = sym.factor(sigma_zz2.subs([(C1,soln4[C1]),(C2,soln4[C2]),(C3,soln4[C3]),(C4,soln4[C4])]).simplify())\n",
    "\n",
    "display(sigma_rr1_soln,sigma_tt1_soln,sigma_zz1_soln,sigma_rr2_soln,sigma_tt2_soln,sigma_zz2_soln)\n",
    "\n",
    "\n"
   ]
  },
  {
   "cell_type": "code",
   "execution_count": 132,
   "id": "f918fc6c-f188-4e26-ab4d-494f98e4740b",
   "metadata": {},
   "outputs": [
    {
     "data": {
      "text/latex": [
       "$\\displaystyle - \\frac{2 \\left(\\nu_{1} + 1\\right) \\left(2 E_{1} \\nu_{2}^{2} p_{i} r_{i}^{2} r_{m}^{2} - 2 E_{1} \\nu_{2}^{2} p_{o} r_{m}^{2} r_{o}^{2} + E_{1} \\nu_{2} p_{i} r_{i}^{2} r_{m}^{2} + E_{1} \\nu_{2} p_{i} r_{i}^{2} r_{o}^{2} - 2 E_{1} \\nu_{2} p_{o} r_{m}^{2} r_{o}^{2} - E_{1} p_{i} r_{i}^{2} r_{m}^{2} + E_{1} p_{i} r_{i}^{2} r_{o}^{2} + E_{2} \\nu_{1} p_{i} r_{i}^{2} r_{m}^{2} - E_{2} \\nu_{1} p_{i} r_{i}^{2} r_{o}^{2} + E_{2} p_{i} r_{i}^{2} r_{m}^{2} - E_{2} p_{i} r_{i}^{2} r_{o}^{2}\\right)}{2 E_{1} \\nu_{2}^{2} r_{i}^{2} r_{m}^{2} - 2 E_{1} \\nu_{2}^{2} r_{m}^{4} + E_{1} \\nu_{2} r_{i}^{2} r_{m}^{2} + E_{1} \\nu_{2} r_{i}^{2} r_{o}^{2} - E_{1} \\nu_{2} r_{m}^{4} - E_{1} \\nu_{2} r_{m}^{2} r_{o}^{2} - E_{1} r_{i}^{2} r_{m}^{2} + E_{1} r_{i}^{2} r_{o}^{2} + E_{1} r_{m}^{4} - E_{1} r_{m}^{2} r_{o}^{2} + 2 E_{2} \\nu_{1}^{2} r_{m}^{4} - 2 E_{2} \\nu_{1}^{2} r_{m}^{2} r_{o}^{2} + E_{2} \\nu_{1} r_{i}^{2} r_{m}^{2} - E_{2} \\nu_{1} r_{i}^{2} r_{o}^{2} + E_{2} \\nu_{1} r_{m}^{4} - E_{2} \\nu_{1} r_{m}^{2} r_{o}^{2} + E_{2} r_{i}^{2} r_{m}^{2} - E_{2} r_{i}^{2} r_{o}^{2} - E_{2} r_{m}^{4} + E_{2} r_{m}^{2} r_{o}^{2}}$"
      ],
      "text/plain": [
       "-2*(nu_1 + 1)*(2*E_1*nu_2**2*p_i*r_i**2*r_m**2 - 2*E_1*nu_2**2*p_o*r_m**2*r_o**2 + E_1*nu_2*p_i*r_i**2*r_m**2 + E_1*nu_2*p_i*r_i**2*r_o**2 - 2*E_1*nu_2*p_o*r_m**2*r_o**2 - E_1*p_i*r_i**2*r_m**2 + E_1*p_i*r_i**2*r_o**2 + E_2*nu_1*p_i*r_i**2*r_m**2 - E_2*nu_1*p_i*r_i**2*r_o**2 + E_2*p_i*r_i**2*r_m**2 - E_2*p_i*r_i**2*r_o**2)/(2*E_1*nu_2**2*r_i**2*r_m**2 - 2*E_1*nu_2**2*r_m**4 + E_1*nu_2*r_i**2*r_m**2 + E_1*nu_2*r_i**2*r_o**2 - E_1*nu_2*r_m**4 - E_1*nu_2*r_m**2*r_o**2 - E_1*r_i**2*r_m**2 + E_1*r_i**2*r_o**2 + E_1*r_m**4 - E_1*r_m**2*r_o**2 + 2*E_2*nu_1**2*r_m**4 - 2*E_2*nu_1**2*r_m**2*r_o**2 + E_2*nu_1*r_i**2*r_m**2 - E_2*nu_1*r_i**2*r_o**2 + E_2*nu_1*r_m**4 - E_2*nu_1*r_m**2*r_o**2 + E_2*r_i**2*r_m**2 - E_2*r_i**2*r_o**2 - E_2*r_m**4 + E_2*r_m**2*r_o**2)"
      ]
     },
     "metadata": {},
     "output_type": "display_data"
    }
   ],
   "source": [
    "I1 = sym.factor((sigma_rr1_soln + sigma_tt1_soln+sigma_zz1_soln).simplify())\n",
    "display(I1)"
   ]
  },
  {
   "cell_type": "code",
   "execution_count": 133,
   "id": "8707ba8f-2a79-48e1-a7f2-e6fbe625883f",
   "metadata": {},
   "outputs": [
    {
     "data": {
      "text/latex": [
       "$\\displaystyle 0$"
      ],
      "text/plain": [
       "0"
      ]
     },
     "execution_count": 133,
     "metadata": {},
     "output_type": "execute_result"
    }
   ],
   "source": [
    "sym.diff(I1,r)\n"
   ]
  },
  {
   "cell_type": "code",
   "execution_count": null,
   "id": "84f3e86c-12f1-490a-9064-438bae4674b4",
   "metadata": {},
   "outputs": [],
   "source": []
  }
 ],
 "metadata": {
  "kernelspec": {
   "display_name": "Python 3 (ipykernel)",
   "language": "python",
   "name": "python3"
  },
  "language_info": {
   "codemirror_mode": {
    "name": "ipython",
    "version": 3
   },
   "file_extension": ".py",
   "mimetype": "text/x-python",
   "name": "python",
   "nbconvert_exporter": "python",
   "pygments_lexer": "ipython3",
   "version": "3.12.4"
  }
 },
 "nbformat": 4,
 "nbformat_minor": 5
}
